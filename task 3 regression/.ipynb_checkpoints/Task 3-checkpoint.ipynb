{
 "cells": [
  {
   "cell_type": "markdown",
   "metadata": {},
   "source": [
    "# Logistic Regression as a Neural Network"
   ]
  },
  {
   "cell_type": "code",
   "execution_count": 1,
   "metadata": {},
   "outputs": [],
   "source": [
    "import numpy as np\n",
    "import pandas as pd\n",
    "import matplotlib.pyplot as plt\n",
    "from sklearn.model_selection import train_test_split, learning_curve\n",
    "import scipy\n",
    "%matplotlib inline"
   ]
  },
  {
   "cell_type": "code",
   "execution_count": 2,
   "metadata": {},
   "outputs": [],
   "source": [
    "def sigmoid(z):\n",
    "    \"\"\"\n",
    "    Compute the sigmoid of z\n",
    "\n",
    "    Arguments:\n",
    "    z -- A scalar or numpy array of any size.\n",
    "\n",
    "    Return:\n",
    "    s -- sigmoid(z)\n",
    "    \"\"\"\n",
    "    s = 1./(1.+np.exp(-z))\n",
    "    \n",
    "    return s"
   ]
  },
  {
   "cell_type": "code",
   "execution_count": 3,
   "metadata": {},
   "outputs": [],
   "source": [
    "def initialize_with_zeros(dim):\n",
    "    \"\"\"\n",
    "    This function creates a vector of zeros of shape (dim, 1) for w and initializes b to 0.\n",
    "    \n",
    "    Argument:\n",
    "    dim -- size of the w vector we want (or number of parameters in this case)\n",
    "    \n",
    "    Returns:\n",
    "    w -- initialized vector of shape (dim, 1)\n",
    "    b -- initialized scalar (corresponds to the bias)\n",
    "    \"\"\"\n",
    "    w = np.zeros((dim,1))\n",
    "    b = 0.\n",
    "    \n",
    "    return w, b"
   ]
  },
  {
   "cell_type": "code",
   "execution_count": 167,
   "metadata": {},
   "outputs": [],
   "source": [
    "def propagate(w, b, X, Y):\n",
    "    \"\"\"\n",
    "    Implement the cost function and its gradient for the propagation explained above\n",
    "\n",
    "    Arguments:\n",
    "    w -- weights, a numpy array of size which equals the number of features\n",
    "    b -- bias, a scalar\n",
    "    X -- data \n",
    "    Y -- true \"label\" vector (containing 0 and 1) of size (1, number of examples)\n",
    "\n",
    "    Return:\n",
    "    cost -- negative log-likelihood cost for logistic regression\n",
    "    dw -- gradient of the loss with respect to w, thus same shape as w\n",
    "    db -- gradient of the loss with respect to b, thus same shape as b\n",
    "    \n",
    "    \"\"\"\n",
    "    m = X.shape[1]\n",
    "    #print(m)\n",
    "    #print('number of objects = ',len(X))\n",
    "    \n",
    "    # FORWARD PROPAGATION (FROM X TO COST)\n",
    "    A = sigmoid(np.dot(w.T,X)+b )                                 # compute activation\n",
    "    cost = -(1./m)*np.sum(Y*np.log(A)+(1-Y)*np.log(1-A),axis=1)   # compute cost\n",
    "    \n",
    "    # BACKWARD PROPAGATION (TO FIND GRAD)\n",
    "    dw = (1./m)*np.dot(X,(A-Y).T)\n",
    "    db = (1./m)*np.sum(A-Y,axis=1)\n",
    "\n",
    "    grads = {\"dw\": dw,\n",
    "             \"db\": db}\n",
    "    \n",
    "    return grads, cost"
   ]
  },
  {
   "cell_type": "code",
   "execution_count": 5,
   "metadata": {},
   "outputs": [
    {
     "name": "stdout",
     "output_type": "stream",
     "text": [
      "[[0.00669285 0.99987661 0.99797468]]\n",
      "(1, 3)\n",
      "(1, 3)\n",
      "dw = [[0.0027004 ]\n",
      " [0.02446984]]\n",
      "db = [0.00151471]\n",
      "cost = [0.00295537]\n"
     ]
    }
   ],
   "source": [
    "w, b, X, Y = np.array([[1.],[-1.]]), 4., np.array([[1.,5.,-1.],[10.,0.,-3.2]]), np.array([[0,1,1]])\n",
    "grads, cost = propagate(w, b, X, Y)\n",
    "print (\"dw = \" + str(grads[\"dw\"]))\n",
    "print (\"db = \" + str(grads[\"db\"]))\n",
    "print (\"cost = \" + str(cost))"
   ]
  },
  {
   "cell_type": "code",
   "execution_count": 94,
   "metadata": {},
   "outputs": [],
   "source": [
    "# optimize\n",
    "\n",
    "def optimize(w, b, X, Y, num_iterations, learning_rate, print_cost = False):\n",
    "    \"\"\"\n",
    "    This function optimizes w and b by running a gradient descent algorithm\n",
    "    \n",
    "    Arguments:\n",
    "    w -- weights, a numpy array \n",
    "    b -- bias, a scalar\n",
    "    X -- data \n",
    "    Y -- true \"label\" vector (containing 0 and 1), of shape (1, number of examples)\n",
    "    num_iterations -- number of iterations of the optimization loop\n",
    "    learning_rate -- learning rate of the gradient descent update rule\n",
    "    print_cost -- True to print the loss every 100 steps\n",
    "    \n",
    "    Returns:\n",
    "    params -- dictionary containing the weights w and bias b\n",
    "    grads -- dictionary containing the gradients of the weights and bias with respect to the cost function\n",
    "    costs -- list of all the costs computed during the optimization, this will be used to plot the learning curve.\n",
    "    \n",
    "    \"\"\"\n",
    "    \n",
    "    costs = []\n",
    "    \n",
    "    for i in range(num_iterations):\n",
    "                \n",
    "        # Cost and gradient calculation \n",
    "        grads, cost = propagate(w,b,X,Y)\n",
    "        \n",
    "        # Retrieve derivatives from grads\n",
    "        dw = grads[\"dw\"]\n",
    "        db = grads[\"db\"]\n",
    "        \n",
    "        # update rule\n",
    "        w -=learning_rate*dw\n",
    "        b -=learning_rate*db\n",
    "        \n",
    "        # Record the costs\n",
    "        #if i % 100 == 0:\n",
    "        costs.append(cost)\n",
    "        \n",
    "        # Print the cost every 100 training iterations\n",
    "        if print_cost and i % 100 == 0:\n",
    "            print (\"Cost after iteration %i: %f\" %(i, cost))\n",
    "    \n",
    "    params = {\"w\": w,\n",
    "              \"b\": b}\n",
    "    \n",
    "    grads = {\"dw\": dw,\n",
    "             \"db\": db}\n",
    "    \n",
    "    return params, grads, costs"
   ]
  },
  {
   "cell_type": "code",
   "execution_count": 95,
   "metadata": {},
   "outputs": [
    {
     "name": "stdout",
     "output_type": "stream",
     "text": [
      "Cost after iteration 0: 0.824838\n",
      "Cost after iteration 100: 0.470206\n",
      "Cost after iteration 200: 0.338820\n",
      "Cost after iteration 300: 0.272989\n",
      "Cost after iteration 400: 0.232216\n",
      "Cost after iteration 500: 0.203700\n",
      "Cost after iteration 600: 0.182243\n",
      "Cost after iteration 700: 0.165311\n",
      "Cost after iteration 800: 0.151502\n",
      "Cost after iteration 900: 0.139966\n",
      "w = [[-1.41112627]\n",
      " [ 0.32144815]]\n",
      "b = [-0.29088205]\n",
      "dw = [[ 0.13300869]\n",
      " [-0.00230662]]\n",
      "db = [0.02262338]\n"
     ]
    }
   ],
   "source": [
    "params, grads, costs = optimize(w, b, X, Y, num_iterations= 1000, learning_rate = 0.005, print_cost = True)\n",
    "\n",
    "print (\"w = \" + str(params[\"w\"]))\n",
    "print (\"b = \" + str(params[\"b\"]))\n",
    "print (\"dw = \" + str(grads[\"dw\"]))\n",
    "print (\"db = \" + str(grads[\"db\"]))"
   ]
  },
  {
   "cell_type": "code",
   "execution_count": 96,
   "metadata": {},
   "outputs": [],
   "source": [
    "def predict(w, b, X):\n",
    "    '''\n",
    "    Predict whether the label is 0 or 1 using learned logistic regression parameters (w, b)\n",
    "    \n",
    "    Arguments:\n",
    "    w -- weights, a numpy array \n",
    "    b -- bias, a scalar\n",
    "    X -- data \n",
    "    \n",
    "    Returns:\n",
    "    Y_prediction -- a numpy array (vector) containing all predictions (0/1) for the examples in X\n",
    "    '''\n",
    "    \n",
    "    m = X.shape[1]\n",
    "    Y_prediction = np.zeros((1,m))\n",
    "    w = w.reshape(X.shape[0], 1)\n",
    "    \n",
    "    # Compute vector \"A\" predicting the probabilities \n",
    "    A = sigmoid(np.dot(w.T,X)+b)\n",
    "    \n",
    "    for i in range(A.shape[1]):\n",
    "        \n",
    "        # Convert probabilities A[0,i] to actual predictions p[0,i]\n",
    "        if (A[0,i]<=0.5):\n",
    "            Y_prediction[0][i]=0\n",
    "        else:\n",
    "            Y_prediction[0][i]=1\n",
    "    \n",
    "    return Y_prediction"
   ]
  },
  {
   "cell_type": "code",
   "execution_count": 97,
   "metadata": {},
   "outputs": [
    {
     "name": "stdout",
     "output_type": "stream",
     "text": [
      "predictions = [[1. 1. 0.]]\n"
     ]
    }
   ],
   "source": [
    "w = np.array([[0.1124579],[0.23106775]])\n",
    "b = -0.3\n",
    "X = np.array([[1.,-1.1,-3.2],[1.2,2.,0.1]])\n",
    "print (\"predictions = \" + str(predict(w, b, X)))"
   ]
  },
  {
   "cell_type": "code",
   "execution_count": 98,
   "metadata": {},
   "outputs": [],
   "source": [
    "# model\n",
    "\n",
    "def model(optimize, X_train, Y_train, X_test, Y_test, num_iterations = 2000, learning_rate = 0.5, print_cost = False):\n",
    "    \"\"\"\n",
    "    Builds the logistic regression model by calling the function we've implemented previously\n",
    "    \n",
    "    Arguments:\n",
    "    X_train -- training set represented by a numpy array \n",
    "    Y_train -- training labels represented by a numpy array (vector) of shape (1, m_train)\n",
    "    X_test -- test set represented by a numpy array \n",
    "    Y_test -- test labels represented by a numpy array (vector) of shape (1, m_test)\n",
    "    num_iterations -- hyperparameter representing the number of iterations to optimize the parameters\n",
    "    learning_rate -- hyperparameter representing the learning rate used in the update rule of optimize()\n",
    "    print_cost -- Set to true to print the cost every 100 iterations\n",
    "    \n",
    "    Returns:\n",
    "    d -- dictionary containing information about the model.\n",
    "    \"\"\"\n",
    "    \n",
    "    # initialize parameters with zeros \n",
    "    w, b = initialize_with_zeros(X_train.shape[0])\n",
    "\n",
    "    # Gradient descent\n",
    "    parameters, grads, costs = optimize(w, b, X_train, Y_train, num_iterations, learning_rate, print_cost)\n",
    "    \n",
    "    # Retrieve parameters w and b from dictionary \"parameters\"\n",
    "    w = parameters[\"w\"]\n",
    "    b = parameters[\"b\"]\n",
    "    \n",
    "    # Predict test/train set examples\n",
    "    Y_prediction_test = predict(w, b, X_test)\n",
    "    Y_prediction_train = predict(w, b, X_train)\n",
    "\n",
    "    # Print train/test Errors\n",
    "    print(\"train accuracy: {} %\".format(100 - np.mean(np.abs(Y_prediction_train - Y_train)) * 100))\n",
    "    print(\"test accuracy: {} %\".format(100 - np.mean(np.abs(Y_prediction_test - Y_test)) * 100))\n",
    "\n",
    "    d = {\"costs\": costs,\n",
    "         \"Y_prediction_test\": Y_prediction_test, \n",
    "         \"Y_prediction_train\" : Y_prediction_train, \n",
    "         \"w\" : w, \n",
    "         \"b\" : b,\n",
    "         \"learning_rate\" : learning_rate,\n",
    "         \"num_iterations\": num_iterations}\n",
    "    \n",
    "    return d"
   ]
  },
  {
   "cell_type": "markdown",
   "metadata": {},
   "source": [
    "# Start of implementation"
   ]
  },
  {
   "cell_type": "markdown",
   "metadata": {},
   "source": [
    "### Reading data"
   ]
  },
  {
   "cell_type": "code",
   "execution_count": 99,
   "metadata": {},
   "outputs": [],
   "source": [
    "bioresponse = pd.read_csv('bioresponse.csv')\n",
    "features_cols = set(bioresponse.columns)\n",
    "features_cols.remove('Activity')\n",
    "x_train, x_test, y_train, y_test = train_test_split(bioresponse[features_cols],\n",
    "                                                    bioresponse['Activity'],\n",
    "                                                    test_size=0.25)"
   ]
  },
  {
   "cell_type": "code",
   "execution_count": 100,
   "metadata": {},
   "outputs": [
    {
     "name": "stdout",
     "output_type": "stream",
     "text": [
      "        D132    D809        D2    D662      D150      D209  D1392  D1605  \\\n",
      "3233  0.0000  0.0000  0.609964  0.0000  0.235294  0.511749      0      0   \n",
      "2424  0.0000  0.0000  0.575619  0.0000  0.117647  0.673866      1      0   \n",
      "1300  0.0000  0.0000  0.704406  0.0000  0.058800  0.524077      0      0   \n",
      "1215  0.0000  0.0000  0.810086  0.0000  0.058800  0.296798      0      0   \n",
      "2436  0.0000  0.0000  0.462300  0.0000  0.352941  0.296798      0      0   \n",
      "...      ...     ...       ...     ...       ...       ...    ...    ...   \n",
      "804   0.0000  0.0000  0.597703  0.0909  0.235294  0.296798      0      0   \n",
      "3135  0.0000  0.0833  0.571143  0.0909  0.470588  0.296798      0      0   \n",
      "458   0.0833  0.0000  0.455704  0.0000  0.000000  0.296798      0      0   \n",
      "1680  0.0000  0.0000  0.493893  0.0000  0.000000  0.296798      0      0   \n",
      "927   0.0000  0.0417  0.584931  0.0455  0.000000  0.556194      0      0   \n",
      "\n",
      "      D667  D1354  ...  D1258  D1606  D723  D1094  D493  D796  D564  D241  \\\n",
      "3233   0.0      0  ...      0      0   0.0      1   0.0   0.0   0.0   0.0   \n",
      "2424   0.0      1  ...      0      0   0.0      1   0.0   0.0   0.0   0.0   \n",
      "1300   0.0      0  ...      0      0   0.0      1   0.0   0.0   0.0   0.0   \n",
      "1215   0.0      0  ...      0      0   0.0      0   0.0   0.0   0.0   0.0   \n",
      "2436   0.0      0  ...      0      0   0.0      1   0.0   0.0   0.0   0.0   \n",
      "...    ...    ...  ...    ...    ...   ...    ...   ...   ...   ...   ...   \n",
      "804    0.0      0  ...      0      0   0.0      0   0.0   0.0   0.0   0.0   \n",
      "3135   0.0      1  ...      1      0   0.0      1   0.0   0.0   0.0   0.0   \n",
      "458    0.0      0  ...      0      0   0.0      0   0.0   0.0   0.0   0.0   \n",
      "1680   0.0      1  ...      1      0   0.0      0   0.0   0.0   0.0   0.0   \n",
      "927    0.0      0  ...      0      0   0.0      0   0.0   0.0   0.0   0.0   \n",
      "\n",
      "      D412  D1117  \n",
      "3233   0.0      1  \n",
      "2424   0.0      0  \n",
      "1300   0.0      0  \n",
      "1215   0.0      1  \n",
      "2436   0.0      0  \n",
      "...    ...    ...  \n",
      "804    0.0      1  \n",
      "3135   0.0      0  \n",
      "458    0.0      0  \n",
      "1680   0.0      0  \n",
      "927    0.0      0  \n",
      "\n",
      "[2813 rows x 1776 columns]\n",
      "3233    1\n",
      "2424    1\n",
      "1300    1\n",
      "1215    0\n",
      "2436    1\n",
      "       ..\n",
      "804     1\n",
      "3135    0\n",
      "458     0\n",
      "1680    1\n",
      "927     1\n",
      "Name: Activity, Length: 2813, dtype: int64\n"
     ]
    }
   ],
   "source": [
    "print(x_train)\n",
    "print(y_train)"
   ]
  },
  {
   "cell_type": "code",
   "execution_count": 183,
   "metadata": {},
   "outputs": [
    {
     "name": "stdout",
     "output_type": "stream",
     "text": [
      "Cost after iteration 0: 0.693147\n",
      "Cost after iteration 100: 0.680356\n",
      "Cost after iteration 200: 0.673059\n",
      "Cost after iteration 300: 0.666556\n",
      "Cost after iteration 400: 0.660526\n",
      "Cost after iteration 500: 0.654895\n",
      "Cost after iteration 600: 0.649620\n",
      "Cost after iteration 700: 0.644660\n",
      "Cost after iteration 800: 0.639984\n",
      "Cost after iteration 900: 0.635565\n",
      "Cost after iteration 1000: 0.631380\n",
      "Cost after iteration 1100: 0.627406\n",
      "Cost after iteration 1200: 0.623627\n",
      "Cost after iteration 1300: 0.620027\n",
      "Cost after iteration 1400: 0.616590\n",
      "Cost after iteration 1500: 0.613305\n",
      "Cost after iteration 1600: 0.610160\n",
      "Cost after iteration 1700: 0.607144\n",
      "Cost after iteration 1800: 0.604249\n",
      "Cost after iteration 1900: 0.601466\n",
      "train accuracy: 73.19587628865979 %\n",
      "test accuracy: 69.82942430703625 %\n"
     ]
    }
   ],
   "source": [
    "d = model(optimize, np.array(x_train.T), np.array(y_train), np.array(x_test.T), np.array(y_test), num_iterations = 2000, learning_rate = 0.001, print_cost = True)"
   ]
  },
  {
   "cell_type": "code",
   "execution_count": 186,
   "metadata": {},
   "outputs": [
    {
     "name": "stdout",
     "output_type": "stream",
     "text": [
      "2000\n",
      "[0.69314718 0.69291091 0.69267922 ... 0.59886656 0.59884025 0.59881395]\n"
     ]
    },
    {
     "data": {
      "text/plain": [
       "[<matplotlib.lines.Line2D at 0x19939dff548>]"
      ]
     },
     "execution_count": 186,
     "metadata": {},
     "output_type": "execute_result"
    },
    {
     "data": {
      "image/png": "[encoded data removed]",
      "text/plain": [
       "<Figure size 432x288 with 1 Axes>"
      ]
     },
     "metadata": {
      "needs_background": "light"
     },
     "output_type": "display_data"
    }
   ],
   "source": [
    "print(d[\"num_iterations\"])\n",
    "print(np.array(d['costs']).flatten())\n",
    "plt.plot(range(d[\"num_iterations\"]), np.array(d[\"costs\"]).flatten())"
   ]
  },
  {
   "cell_type": "markdown",
   "metadata": {},
   "source": [
    "### Stochastic gd"
   ]
  },
  {
   "cell_type": "code",
   "execution_count": 123,
   "metadata": {},
   "outputs": [],
   "source": [
    "batch_size = 128\n",
    "def sgd_multi(w, b, X, Y, num_iterations, learning_rate, print_cost = False):\n",
    "    \"\"\"\n",
    "    This function optimizes w and b by running a gradient descent algorithm\n",
    "    \n",
    "    Arguments:\n",
    "    w -- weights, a numpy array \n",
    "    b -- bias, a scalar\n",
    "    X -- data \n",
    "    Y -- true \"label\" vector (containing 0 and 1), of shape (1, number of examples)\n",
    "    num_iterations -- number of iterations of the optimization loop\n",
    "    learning_rate -- learning rate of the gradient descent update rule\n",
    "    print_cost -- True to print the loss every 100 steps\n",
    "    \n",
    "    Returns:\n",
    "    params -- dictionary containing the weights w and bias b\n",
    "    grads -- dictionary containing the gradients of the weights and bias with respect to the cost function\n",
    "    costs -- list of all the costs computed during the optimization, this will be used to plot the learning curve.\n",
    "    \n",
    "    \"\"\"\n",
    "    \n",
    "    costs = []\n",
    "    indices = np.arange(X.T.shape[0])\n",
    "    np.random.shuffle(indices)\n",
    "    idx_start = 0\n",
    "    idx_end = 0\n",
    "    for i in range(num_iterations):\n",
    "        \n",
    "        # Cost and gradient calculation \n",
    "        excess = 0\n",
    "        if idx_start + batch_size > X.T.shape[0]:\n",
    "            excess = (idx_start + batch_size) % X.T.shape[0]\n",
    "            idx_end = X.T.shape[0]\n",
    "            it_ = np.concatenate((indices[idx_start:], indices[: excess]), axis=0)\n",
    "        else:\n",
    "            idx_end = batch_size + idx_start \n",
    "            it_ = indices[idx_start: idx_end]\n",
    "        grads, cost = propagate(w,\n",
    "                                b,\n",
    "                                (X.T[it_].T),\n",
    "                                Y[it_])\n",
    "        idx_start = ((idx_start + batch_size) % X.T.shape[0]) + excess\n",
    "\n",
    "        # Retrieve derivatives from grads\n",
    "        dw = grads[\"dw\"]\n",
    "        db = grads[\"db\"]\n",
    "        \n",
    "        # update rule\n",
    "        w -=learning_rate*dw\n",
    "        b -=learning_rate*db\n",
    "        \n",
    "        # Record the costs\n",
    "        if i % 100 == 0:\n",
    "            costs.append(cost)\n",
    "        \n",
    "        # Print the cost every 100 training iterations\n",
    "        if print_cost and i % 100 == 0:\n",
    "            print (\"Cost after iteration %i: %f\" %(i, cost))\n",
    "    \n",
    "    params = {\"w\": w,\n",
    "              \"b\": b}\n",
    "    \n",
    "    grads = {\"dw\": dw,\n",
    "             \"db\": db}\n",
    "    \n",
    "    return params, grads, costs\n",
    "        "
   ]
  },
  {
   "cell_type": "markdown",
   "metadata": {},
   "source": [
    "### SGD Testing different learning rates, batch size = 128"
   ]
  },
  {
   "cell_type": "markdown",
   "metadata": {},
   "source": [
    "#### 1. learning rate = 0.001"
   ]
  },
  {
   "cell_type": "code",
   "execution_count": 188,
   "metadata": {
    "scrolled": true
   },
   "outputs": [
    {
     "name": "stdout",
     "output_type": "stream",
     "text": [
      "Cost after iteration 0: 0.693147\n",
      "Cost after iteration 100: 0.690370\n",
      "Cost after iteration 200: 0.679975\n",
      "Cost after iteration 300: 0.675451\n",
      "Cost after iteration 400: 0.652024\n",
      "Cost after iteration 500: 0.671395\n",
      "Cost after iteration 600: 0.654368\n",
      "Cost after iteration 700: 0.628853\n",
      "Cost after iteration 800: 0.627236\n",
      "Cost after iteration 900: 0.633199\n",
      "Cost after iteration 1000: 0.629722\n",
      "Cost after iteration 1100: 0.600928\n",
      "Cost after iteration 1200: 0.642256\n",
      "Cost after iteration 1300: 0.615826\n",
      "Cost after iteration 1400: 0.623826\n",
      "Cost after iteration 1500: 0.615518\n",
      "Cost after iteration 1600: 0.590188\n",
      "Cost after iteration 1700: 0.609199\n",
      "Cost after iteration 1800: 0.613429\n",
      "Cost after iteration 1900: 0.598033\n",
      "train accuracy: 72.80483469605403 %\n",
      "test accuracy: 69.40298507462687 %\n"
     ]
    }
   ],
   "source": [
    "d = model(sgd_multi, np.array(x_train.T), np.array(y_train), np.array(x_test.T), np.array(y_test), num_iterations = 2000, learning_rate = 0.001, print_cost = True)"
   ]
  },
  {
   "cell_type": "code",
   "execution_count": 189,
   "metadata": {},
   "outputs": [
    {
     "name": "stdout",
     "output_type": "stream",
     "text": [
      "2000\n",
      "[0.69314718 0.69036976 0.67997484 0.67545134 0.6520239  0.67139533\n",
      " 0.65436837 0.62885339 0.62723552 0.63319943 0.62972206 0.60092776\n",
      " 0.64225566 0.61582645 0.6238264  0.61551835 0.59018786 0.60919941\n",
      " 0.61342899 0.59803341]\n"
     ]
    },
    {
     "data": {
      "text/plain": [
       "[<matplotlib.lines.Line2D at 0x19939e21208>]"
      ]
     },
     "execution_count": 189,
     "metadata": {},
     "output_type": "execute_result"
    },
    {
     "data": {
      "image/png": "[encoded data removed]",
      "text/plain": [
       "<Figure size 432x288 with 1 Axes>"
      ]
     },
     "metadata": {
      "needs_background": "light"
     },
     "output_type": "display_data"
    }
   ],
   "source": [
    "print(d[\"num_iterations\"])\n",
    "print(np.array(d['costs']).flatten())\n",
    "plt.plot(range(0, d[\"num_iterations\"], 100), np.array(d[\"costs\"]).flatten())"
   ]
  },
  {
   "cell_type": "markdown",
   "metadata": {},
   "source": [
    "#### 2. learning rate = 0.01"
   ]
  },
  {
   "cell_type": "code",
   "execution_count": 190,
   "metadata": {},
   "outputs": [
    {
     "name": "stdout",
     "output_type": "stream",
     "text": [
      "Cost after iteration 0: 0.693147\n",
      "Cost after iteration 100: 0.617651\n",
      "Cost after iteration 200: 0.582035\n",
      "Cost after iteration 300: 0.593541\n",
      "Cost after iteration 400: 0.622099\n",
      "Cost after iteration 500: 0.510596\n",
      "Cost after iteration 600: 0.517636\n",
      "Cost after iteration 700: 0.538229\n",
      "Cost after iteration 800: 0.512814\n",
      "Cost after iteration 900: 0.512373\n",
      "Cost after iteration 1000: 0.478323\n",
      "Cost after iteration 1100: 0.522997\n",
      "Cost after iteration 1200: 0.498064\n",
      "Cost after iteration 1300: 0.510169\n",
      "Cost after iteration 1400: 0.428695\n",
      "Cost after iteration 1500: 0.488042\n",
      "Cost after iteration 1600: 0.551088\n",
      "Cost after iteration 1700: 0.427485\n",
      "Cost after iteration 1800: 0.492149\n",
      "Cost after iteration 1900: 0.496085\n",
      "train accuracy: 78.77710629221471 %\n",
      "test accuracy: 73.88059701492537 %\n"
     ]
    }
   ],
   "source": [
    "d = model(sgd_multi, np.array(x_train.T), np.array(y_train), np.array(x_test.T), np.array(y_test), num_iterations = 2000, learning_rate = 0.01, print_cost = True)"
   ]
  },
  {
   "cell_type": "code",
   "execution_count": 191,
   "metadata": {},
   "outputs": [
    {
     "name": "stdout",
     "output_type": "stream",
     "text": [
      "2000\n",
      "[0.69314718 0.61765119 0.5820346  0.59354073 0.62209904 0.51059614\n",
      " 0.51763626 0.53822874 0.51281413 0.51237288 0.47832339 0.52299721\n",
      " 0.49806364 0.51016904 0.42869464 0.48804178 0.55108763 0.42748467\n",
      " 0.49214902 0.49608483]\n"
     ]
    },
    {
     "data": {
      "text/plain": [
       "[<matplotlib.lines.Line2D at 0x19939ec1888>]"
      ]
     },
     "execution_count": 191,
     "metadata": {},
     "output_type": "execute_result"
    },
    {
     "data": {
      "image/png": "[encoded data removed]",
      "text/plain": [
       "<Figure size 432x288 with 1 Axes>"
      ]
     },
     "metadata": {
      "needs_background": "light"
     },
     "output_type": "display_data"
    }
   ],
   "source": [
    "print(d[\"num_iterations\"])\n",
    "print(np.array(d['costs']).flatten())\n",
    "plt.plot(range(0, d[\"num_iterations\"], 100), np.array(d[\"costs\"]).flatten())"
   ]
  },
  {
   "cell_type": "markdown",
   "metadata": {},
   "source": [
    "#### 3. learning rate = 0.1"
   ]
  },
  {
   "cell_type": "code",
   "execution_count": 192,
   "metadata": {},
   "outputs": [
    {
     "name": "stdout",
     "output_type": "stream",
     "text": [
      "Cost after iteration 0: 0.693147\n",
      "Cost after iteration 100: 0.478209\n",
      "Cost after iteration 200: 0.399443\n",
      "Cost after iteration 300: 0.417271\n",
      "Cost after iteration 400: 0.445549\n",
      "Cost after iteration 500: 0.368915\n",
      "Cost after iteration 600: 0.433840\n",
      "Cost after iteration 700: 0.444494\n",
      "Cost after iteration 800: 0.487942\n",
      "Cost after iteration 900: 0.370504\n",
      "Cost after iteration 1000: 0.436030\n",
      "Cost after iteration 1100: 0.427764\n",
      "Cost after iteration 1200: 0.381045\n",
      "Cost after iteration 1300: 0.433447\n",
      "Cost after iteration 1400: 0.400191\n",
      "Cost after iteration 1500: 0.375310\n",
      "Cost after iteration 1600: 0.416819\n",
      "Cost after iteration 1700: 0.379454\n",
      "Cost after iteration 1800: 0.382396\n",
      "Cost after iteration 1900: 0.388850\n",
      "train accuracy: 83.36295769640952 %\n",
      "test accuracy: 76.33262260127933 %\n"
     ]
    }
   ],
   "source": [
    "d = model(sgd_multi, np.array(x_train.T), np.array(y_train), np.array(x_test.T), np.array(y_test), num_iterations = 2000, learning_rate = 0.1, print_cost = True)"
   ]
  },
  {
   "cell_type": "code",
   "execution_count": 193,
   "metadata": {},
   "outputs": [
    {
     "name": "stdout",
     "output_type": "stream",
     "text": [
      "2000\n",
      "[0.69314718 0.47820868 0.39944315 0.41727125 0.44554854 0.36891524\n",
      " 0.43384024 0.44449395 0.48794168 0.37050357 0.43602954 0.42776396\n",
      " 0.38104464 0.43344684 0.40019068 0.37531043 0.41681872 0.3794543\n",
      " 0.38239583 0.3888503 ]\n"
     ]
    },
    {
     "data": {
      "text/plain": [
       "[<matplotlib.lines.Line2D at 0x19939e8f148>]"
      ]
     },
     "execution_count": 193,
     "metadata": {},
     "output_type": "execute_result"
    },
    {
     "data": {
      "image/png": "[encoded data removed]",
      "text/plain": [
       "<Figure size 432x288 with 1 Axes>"
      ]
     },
     "metadata": {
      "needs_background": "light"
     },
     "output_type": "display_data"
    }
   ],
   "source": [
    "print(d[\"num_iterations\"])\n",
    "print(np.array(d['costs']).flatten())\n",
    "plt.plot(range(0, d[\"num_iterations\"], 100), np.array(d[\"costs\"]).flatten())"
   ]
  },
  {
   "cell_type": "markdown",
   "metadata": {},
   "source": [
    "#### 4. learning rate = 0.2"
   ]
  },
  {
   "cell_type": "code",
   "execution_count": 194,
   "metadata": {},
   "outputs": [
    {
     "name": "stdout",
     "output_type": "stream",
     "text": [
      "Cost after iteration 0: 0.693147\n",
      "Cost after iteration 100: 0.519136\n",
      "Cost after iteration 200: 0.507467\n",
      "Cost after iteration 300: 0.429085\n",
      "Cost after iteration 400: 0.470574\n",
      "Cost after iteration 500: 0.485589\n",
      "Cost after iteration 600: 0.395021\n",
      "Cost after iteration 700: 0.393143\n",
      "Cost after iteration 800: 0.410867\n",
      "Cost after iteration 900: 0.388360\n",
      "Cost after iteration 1000: 0.451005\n",
      "Cost after iteration 1100: 0.449975\n",
      "Cost after iteration 1200: 0.301749\n",
      "Cost after iteration 1300: 0.294996\n",
      "Cost after iteration 1400: 0.301724\n",
      "Cost after iteration 1500: 0.416444\n",
      "Cost after iteration 1600: 0.348411\n",
      "Cost after iteration 1700: 0.421532\n",
      "Cost after iteration 1800: 0.358716\n",
      "Cost after iteration 1900: 0.320353\n",
      "train accuracy: 84.78492712406683 %\n",
      "test accuracy: 76.43923240938166 %\n"
     ]
    }
   ],
   "source": [
    "d = model(sgd_multi, np.array(x_train.T), np.array(y_train), np.array(x_test.T), np.array(y_test), num_iterations = 2000, learning_rate = 0.2, print_cost = True)"
   ]
  },
  {
   "cell_type": "code",
   "execution_count": 195,
   "metadata": {},
   "outputs": [
    {
     "name": "stdout",
     "output_type": "stream",
     "text": [
      "2000\n",
      "[0.69314718 0.51913554 0.50746699 0.42908521 0.47057353 0.48558872\n",
      " 0.39502122 0.39314283 0.41086737 0.38836    0.45100538 0.44997451\n",
      " 0.30174873 0.29499579 0.30172439 0.41644397 0.34841111 0.42153204\n",
      " 0.35871598 0.32035312]\n"
     ]
    },
    {
     "data": {
      "text/plain": [
       "[<matplotlib.lines.Line2D at 0x19939e667c8>]"
      ]
     },
     "execution_count": 195,
     "metadata": {},
     "output_type": "execute_result"
    },
    {
     "data": {
      "image/png": "[encoded data removed]",
      "text/plain": [
       "<Figure size 432x288 with 1 Axes>"
      ]
     },
     "metadata": {
      "needs_background": "light"
     },
     "output_type": "display_data"
    }
   ],
   "source": [
    "print(d[\"num_iterations\"])\n",
    "print(np.array(d['costs']).flatten())\n",
    "plt.plot(np.array(d[\"costs\"]).flatten(), range(0, d[\"num_iterations\"], 100))"
   ]
  },
  {
   "cell_type": "markdown",
   "metadata": {},
   "source": [
    "#### 5. learning rate = 0.4"
   ]
  },
  {
   "cell_type": "code",
   "execution_count": 196,
   "metadata": {},
   "outputs": [
    {
     "name": "stdout",
     "output_type": "stream",
     "text": [
      "Cost after iteration 0: 0.693147\n",
      "Cost after iteration 100: 1.164630\n",
      "Cost after iteration 200: 0.537090\n",
      "Cost after iteration 300: 0.477806\n",
      "Cost after iteration 400: 0.318288\n",
      "Cost after iteration 500: 0.487870\n",
      "Cost after iteration 600: 0.554009\n",
      "Cost after iteration 700: 0.922243\n",
      "Cost after iteration 800: 0.639720\n",
      "Cost after iteration 900: 0.595286\n",
      "Cost after iteration 1000: 0.459536\n",
      "Cost after iteration 1100: 0.399266\n",
      "Cost after iteration 1200: 0.485735\n",
      "Cost after iteration 1300: 0.681782\n",
      "Cost after iteration 1400: 0.559017\n",
      "Cost after iteration 1500: 0.530510\n",
      "Cost after iteration 1600: 0.481709\n",
      "Cost after iteration 1700: 0.416749\n",
      "Cost after iteration 1800: 0.311318\n",
      "Cost after iteration 1900: 0.387251\n",
      "train accuracy: 80.51901884109492 %\n",
      "test accuracy: 73.66737739872069 %\n"
     ]
    }
   ],
   "source": [
    "d = model(sgd_multi, np.array(x_train.T), np.array(y_train), np.array(x_test.T), np.array(y_test), num_iterations = 2000, learning_rate = 0.4, print_cost = True)"
   ]
  },
  {
   "cell_type": "code",
   "execution_count": 197,
   "metadata": {
    "scrolled": true
   },
   "outputs": [
    {
     "name": "stdout",
     "output_type": "stream",
     "text": [
      "2000\n",
      "[0.69314718 1.16462997 0.53709012 0.47780585 0.31828835 0.48786975\n",
      " 0.55400921 0.92224349 0.63972049 0.59528646 0.4595363  0.39926636\n",
      " 0.48573466 0.68178235 0.55901687 0.5305103  0.4817093  0.41674869\n",
      " 0.31131813 0.3872506 ]\n"
     ]
    },
    {
     "data": {
      "text/plain": [
       "[<matplotlib.lines.Line2D at 0x19900082bc8>]"
      ]
     },
     "execution_count": 197,
     "metadata": {},
     "output_type": "execute_result"
    },
    {
     "data": {
      "image/png": "[encoded data removed]",
      "text/plain": [
       "<Figure size 432x288 with 1 Axes>"
      ]
     },
     "metadata": {
      "needs_background": "light"
     },
     "output_type": "display_data"
    }
   ],
   "source": [
    "print(d[\"num_iterations\"])\n",
    "print(np.array(d['costs']).flatten())\n",
    "plt.plot(np.array(d[\"costs\"]).flatten(), range(0, d[\"num_iterations\"], 100))"
   ]
  },
  {
   "cell_type": "markdown",
   "metadata": {},
   "source": [
    "### SGD Testing different batch sizes, learning rate = 0.001"
   ]
  },
  {
   "cell_type": "markdown",
   "metadata": {},
   "source": [
    "#### 1. , batch size = 64"
   ]
  },
  {
   "cell_type": "code",
   "execution_count": 201,
   "metadata": {
    "scrolled": true
   },
   "outputs": [
    {
     "name": "stdout",
     "output_type": "stream",
     "text": [
      "Cost after iteration 0: 0.693147\n",
      "Cost after iteration 100: 0.691301\n",
      "Cost after iteration 200: 0.655577\n",
      "Cost after iteration 300: 0.644763\n",
      "Cost after iteration 400: 0.638981\n",
      "Cost after iteration 500: 0.633801\n",
      "Cost after iteration 600: 0.637959\n",
      "Cost after iteration 700: 0.643925\n",
      "Cost after iteration 800: 0.661168\n",
      "Cost after iteration 900: 0.662655\n",
      "Cost after iteration 1000: 0.644739\n",
      "Cost after iteration 1100: 0.637267\n",
      "Cost after iteration 1200: 0.615203\n",
      "Cost after iteration 1300: 0.620432\n",
      "Cost after iteration 1400: 0.615632\n",
      "Cost after iteration 1500: 0.605833\n",
      "Cost after iteration 1600: 0.610981\n",
      "Cost after iteration 1700: 0.597747\n",
      "Cost after iteration 1800: 0.609597\n",
      "Cost after iteration 1900: 0.610092\n",
      "train accuracy: 73.76466405972272 %\n",
      "test accuracy: 69.7228144989339 %\n"
     ]
    }
   ],
   "source": [
    "batch_size = 64\n",
    "d = model(sgd_multi, np.array(x_train.T), np.array(y_train), np.array(x_test.T), np.array(y_test), num_iterations = 2000, learning_rate = 0.001, print_cost = True)"
   ]
  },
  {
   "cell_type": "code",
   "execution_count": 202,
   "metadata": {
    "scrolled": false
   },
   "outputs": [
    {
     "name": "stdout",
     "output_type": "stream",
     "text": [
      "2000\n",
      "[0.69314718 0.69130052 0.65557732 0.64476341 0.63898129 0.63380096\n",
      " 0.63795945 0.64392484 0.66116778 0.66265492 0.64473906 0.63726726\n",
      " 0.61520326 0.62043182 0.61563159 0.6058332  0.61098135 0.59774709\n",
      " 0.60959676 0.61009152]\n"
     ]
    },
    {
     "data": {
      "text/plain": [
       "[<matplotlib.lines.Line2D at 0x19900176ac8>]"
      ]
     },
     "execution_count": 202,
     "metadata": {},
     "output_type": "execute_result"
    },
    {
     "data": {
      "image/png": "[encoded data removed]",
      "text/plain": [
       "<Figure size 432x288 with 1 Axes>"
      ]
     },
     "metadata": {
      "needs_background": "light"
     },
     "output_type": "display_data"
    }
   ],
   "source": [
    "print(d[\"num_iterations\"])\n",
    "print(np.array(d['costs']).flatten())\n",
    "plt.plot(range(0, d[\"num_iterations\"], 100), np.array(d[\"costs\"]).flatten())"
   ]
  },
  {
   "cell_type": "markdown",
   "metadata": {},
   "source": [
    "#### 2. , batch size = 32"
   ]
  },
  {
   "cell_type": "code",
   "execution_count": 203,
   "metadata": {
    "scrolled": true
   },
   "outputs": [
    {
     "name": "stdout",
     "output_type": "stream",
     "text": [
      "Cost after iteration 0: 0.693147\n",
      "Cost after iteration 100: 0.689471\n",
      "Cost after iteration 200: 0.669325\n",
      "Cost after iteration 300: 0.690001\n",
      "Cost after iteration 400: 0.623964\n",
      "Cost after iteration 500: 0.605535\n",
      "Cost after iteration 600: 0.623245\n",
      "Cost after iteration 700: 0.649070\n",
      "Cost after iteration 800: 0.637481\n",
      "Cost after iteration 900: 0.610876\n",
      "Cost after iteration 1000: 0.631910\n",
      "Cost after iteration 1100: 0.636245\n",
      "Cost after iteration 1200: 0.621527\n",
      "Cost after iteration 1300: 0.636549\n",
      "Cost after iteration 1400: 0.602090\n",
      "Cost after iteration 1500: 0.619005\n",
      "Cost after iteration 1600: 0.606092\n",
      "Cost after iteration 1700: 0.588446\n",
      "Cost after iteration 1800: 0.590659\n",
      "Cost after iteration 1900: 0.596529\n",
      "train accuracy: 73.44472093849983 %\n",
      "test accuracy: 70.25586353944563 %\n"
     ]
    }
   ],
   "source": [
    "batch_size = 32\n",
    "d = model(sgd_multi, np.array(x_train.T), np.array(y_train), np.array(x_test.T), np.array(y_test), num_iterations = 2000, learning_rate = 0.001, print_cost = True)"
   ]
  },
  {
   "cell_type": "code",
   "execution_count": 204,
   "metadata": {
    "scrolled": true
   },
   "outputs": [
    {
     "name": "stdout",
     "output_type": "stream",
     "text": [
      "2000\n",
      "[0.69314718 0.68947057 0.66932472 0.69000132 0.62396399 0.60553465\n",
      " 0.62324468 0.64907025 0.6374814  0.61087603 0.63191031 0.63624463\n",
      " 0.62152733 0.63654872 0.60209011 0.61900453 0.60609178 0.58844582\n",
      " 0.59065889 0.59652872]\n"
     ]
    },
    {
     "data": {
      "text/plain": [
       "[<matplotlib.lines.Line2D at 0x199001c1448>]"
      ]
     },
     "execution_count": 204,
     "metadata": {},
     "output_type": "execute_result"
    },
    {
     "data": {
      "image/png": "[encoded data removed]",
      "text/plain": [
       "<Figure size 432x288 with 1 Axes>"
      ]
     },
     "metadata": {
      "needs_background": "light"
     },
     "output_type": "display_data"
    }
   ],
   "source": [
    "print(d[\"num_iterations\"])\n",
    "print(np.array(d['costs']).flatten())\n",
    "plt.plot(range(0, d[\"num_iterations\"], 100), np.array(d[\"costs\"]).flatten())"
   ]
  },
  {
   "cell_type": "markdown",
   "metadata": {},
   "source": [
    "#### 3.  batch size = 16"
   ]
  },
  {
   "cell_type": "code",
   "execution_count": 205,
   "metadata": {
    "scrolled": true
   },
   "outputs": [
    {
     "name": "stdout",
     "output_type": "stream",
     "text": [
      "Cost after iteration 0: 0.693147\n",
      "Cost after iteration 100: 0.688961\n",
      "Cost after iteration 200: 0.694540\n",
      "Cost after iteration 300: 0.674612\n",
      "Cost after iteration 400: 0.685402\n",
      "Cost after iteration 500: 0.616479\n",
      "Cost after iteration 600: 0.634267\n",
      "Cost after iteration 700: 0.637568\n",
      "Cost after iteration 800: 0.647258\n",
      "Cost after iteration 900: 0.641586\n",
      "Cost after iteration 1000: 0.622314\n",
      "Cost after iteration 1100: 0.621171\n",
      "Cost after iteration 1200: 0.591380\n",
      "Cost after iteration 1300: 0.601992\n",
      "Cost after iteration 1400: 0.620368\n",
      "Cost after iteration 1500: 0.629924\n",
      "Cost after iteration 1600: 0.616417\n",
      "Cost after iteration 1700: 0.602438\n",
      "Cost after iteration 1800: 0.599360\n",
      "Cost after iteration 1900: 0.550432\n",
      "train accuracy: 73.26697476004266 %\n",
      "test accuracy: 69.40298507462687 %\n"
     ]
    }
   ],
   "source": [
    "batch_size = 16\n",
    "d = model(sgd_multi, np.array(x_train.T), np.array(y_train), np.array(x_test.T), np.array(y_test), num_iterations = 2000, learning_rate = 0.001, print_cost = True)"
   ]
  },
  {
   "cell_type": "code",
   "execution_count": 206,
   "metadata": {},
   "outputs": [
    {
     "name": "stdout",
     "output_type": "stream",
     "text": [
      "2000\n",
      "[0.69314718 0.68896147 0.69454034 0.67461182 0.68540248 0.61647906\n",
      " 0.63426679 0.63756775 0.64725824 0.6415856  0.62231417 0.62117142\n",
      " 0.5913802  0.60199197 0.62036832 0.62992407 0.61641717 0.60243824\n",
      " 0.59936007 0.55043155]\n"
     ]
    },
    {
     "data": {
      "text/plain": [
       "[<matplotlib.lines.Line2D at 0x19900015208>]"
      ]
     },
     "execution_count": 206,
     "metadata": {},
     "output_type": "execute_result"
    },
    {
     "data": {
      "image/png": "[encoded data removed]",
      "text/plain": [
       "<Figure size 432x288 with 1 Axes>"
      ]
     },
     "metadata": {
      "needs_background": "light"
     },
     "output_type": "display_data"
    }
   ],
   "source": [
    "print(d[\"num_iterations\"])\n",
    "print(np.array(d['costs']).flatten())\n",
    "plt.plot(range(0, d[\"num_iterations\"], 100), np.array(d[\"costs\"]).flatten())"
   ]
  },
  {
   "cell_type": "markdown",
   "metadata": {},
   "source": [
    "## Adam"
   ]
  },
  {
   "cell_type": "code",
   "execution_count": 170,
   "metadata": {},
   "outputs": [],
   "source": [
    "def adam(w, b, X, Y, num_iterations, learning_rate, print_cost = False):\n",
    "    \"\"\"\n",
    "    This function optimizes w and b by running a gradient descent algorithm\n",
    "    \n",
    "    Arguments:\n",
    "    w -- weights, a numpy array \n",
    "    b -- bias, a scalar\n",
    "    X -- data \n",
    "    Y -- true \"label\" vector (containing 0 and 1), of shape (1, number of examples)\n",
    "    num_iterations -- number of iterations of the optimization loop\n",
    "    learning_rate -- learning rate of the gradient descent update rule\n",
    "    print_cost -- True to print the loss every 100 steps\n",
    "    \n",
    "    Returns:\n",
    "    params -- dictionary containing the weights w and bias b\n",
    "    grads -- dictionary containing the gradients of the weights and bias with respect to the cost function\n",
    "    costs -- list of all the costs computed during the optimization, this will be used to plot the learning curve.\n",
    "    \n",
    "    \"\"\"\n",
    "    \n",
    "    costs = []\n",
    "\n",
    "    m = np.zeros(len(w))\n",
    "    v = np.zeros(len(w))\n",
    "    m_b = 0.0\n",
    "    v_b = 0.0\n",
    "    \n",
    "    for i in range(num_iterations):\n",
    "        \n",
    "        # Cost and gradient calculation \n",
    "        grads, cost = propagate(w,b,X,Y)\n",
    "        \n",
    "        e = 1e-8\n",
    "        b1 = 0.9\n",
    "        b2 = 0.999\n",
    "        # Retrieve derivatives from grads\n",
    "        dw = grads[\"dw\"].flatten()\n",
    "        db = grads[\"db\"].flatten()\n",
    "        m = b1 * m + (1 - b1) * dw\n",
    "        m_b = b1 * m_b + (1 - b1) * db[0]\n",
    "\n",
    "        v = b2 * v + (1 - b2) * (dw ** 2)\n",
    "        v_b = b2 * v_b + (1 - b2) * (db[0] ** 2)\n",
    "        \n",
    "        m_c = m / ( 1 - b1 ** (i + 1))\n",
    "        m_b_c = m_b / ( 1 - b1 ** (i + 1))\n",
    "        \n",
    "        v_c = v / (1 - b2 ** (i + 1))\n",
    "        v_b_c = v_b / (1 - b2 ** (i + 1))\n",
    "        \n",
    "        # update rule\n",
    "        w[:,0] = w[:,0] - (learning_rate * m_c) / (np.sqrt(v_c) + e)\n",
    "        b = b - (learning_rate * m_b_c) / (np.sqrt(v_b_c) + e)\n",
    "\n",
    "        # Record the costs\n",
    "        #if i % 100 == 0:\n",
    "        costs.append(cost)\n",
    "        \n",
    "        # Print the cost every 100 training iterations\n",
    "        if print_cost and i % 100 == 0:\n",
    "            print (\"Cost after iteration %i: %f\" %(i, cost))\n",
    "    \n",
    "    params = {\"w\": w,\n",
    "              \"b\": b}\n",
    "    \n",
    "    grads = {\"dw\": dw,\n",
    "             \"db\": db}\n",
    "    \n",
    "    return params, grads, costs"
   ]
  },
  {
   "cell_type": "markdown",
   "metadata": {},
   "source": [
    "### Adam Testing different learning rates"
   ]
  },
  {
   "cell_type": "markdown",
   "metadata": {},
   "source": [
    "#### 1. learning rate = 0.001"
   ]
  },
  {
   "cell_type": "code",
   "execution_count": 198,
   "metadata": {
    "scrolled": true
   },
   "outputs": [
    {
     "name": "stdout",
     "output_type": "stream",
     "text": [
      "Cost after iteration 0: 0.693147\n",
      "Cost after iteration 100: 0.499690\n",
      "Cost after iteration 200: 0.441042\n",
      "Cost after iteration 300: 0.407559\n",
      "Cost after iteration 400: 0.384348\n",
      "Cost after iteration 500: 0.366680\n",
      "Cost after iteration 600: 0.352496\n",
      "Cost after iteration 700: 0.340703\n",
      "Cost after iteration 800: 0.330644\n",
      "Cost after iteration 900: 0.321891\n",
      "Cost after iteration 1000: 0.314149\n",
      "Cost after iteration 1100: 0.307211\n",
      "Cost after iteration 1200: 0.300924\n",
      "Cost after iteration 1300: 0.295173\n",
      "Cost after iteration 1400: 0.289871\n",
      "Cost after iteration 1500: 0.284951\n",
      "Cost after iteration 1600: 0.280358\n",
      "Cost after iteration 1700: 0.276047\n",
      "Cost after iteration 1800: 0.271984\n",
      "Cost after iteration 1900: 0.268138\n",
      "train accuracy: 89.90401706363313 %\n",
      "test accuracy: 75.05330490405117 %\n"
     ]
    }
   ],
   "source": [
    "d = model(adam, np.array(x_train.T), np.array(y_train), np.array(x_test.T), np.array(y_test), num_iterations = 2000, learning_rate = 0.001, print_cost = True)"
   ]
  },
  {
   "cell_type": "code",
   "execution_count": 199,
   "metadata": {},
   "outputs": [
    {
     "name": "stdout",
     "output_type": "stream",
     "text": [
      "2000\n",
      "[0.69314718 0.68520535 0.68098636 ... 0.26459135 0.26455566 0.26451999]\n"
     ]
    },
    {
     "data": {
      "text/plain": [
       "[<matplotlib.lines.Line2D at 0x199000fe748>]"
      ]
     },
     "execution_count": 199,
     "metadata": {},
     "output_type": "execute_result"
    },
    {
     "data": {
      "image/png": "[encoded data removed]",
      "text/plain": [
       "<Figure size 432x288 with 1 Axes>"
      ]
     },
     "metadata": {
      "needs_background": "light"
     },
     "output_type": "display_data"
    }
   ],
   "source": [
    "print(d[\"num_iterations\"])\n",
    "print(np.array(d['costs']).flatten())\n",
    "plt.plot(range(0, d[\"num_iterations\"]), np.array(d[\"costs\"]).flatten())"
   ]
  },
  {
   "cell_type": "markdown",
   "metadata": {},
   "source": [
    "#### 2. learning rate = 0.01"
   ]
  },
  {
   "cell_type": "code",
   "execution_count": 198,
   "metadata": {
    "scrolled": false
   },
   "outputs": [
    {
     "name": "stdout",
     "output_type": "stream",
     "text": [
      "Cost after iteration 0: 0.693147\n",
      "Cost after iteration 100: 0.499690\n",
      "Cost after iteration 200: 0.441042\n",
      "Cost after iteration 300: 0.407559\n",
      "Cost after iteration 400: 0.384348\n",
      "Cost after iteration 500: 0.366680\n",
      "Cost after iteration 600: 0.352496\n",
      "Cost after iteration 700: 0.340703\n",
      "Cost after iteration 800: 0.330644\n",
      "Cost after iteration 900: 0.321891\n",
      "Cost after iteration 1000: 0.314149\n",
      "Cost after iteration 1100: 0.307211\n",
      "Cost after iteration 1200: 0.300924\n",
      "Cost after iteration 1300: 0.295173\n",
      "Cost after iteration 1400: 0.289871\n",
      "Cost after iteration 1500: 0.284951\n",
      "Cost after iteration 1600: 0.280358\n",
      "Cost after iteration 1700: 0.276047\n",
      "Cost after iteration 1800: 0.271984\n",
      "Cost after iteration 1900: 0.268138\n",
      "train accuracy: 89.90401706363313 %\n",
      "test accuracy: 75.05330490405117 %\n"
     ]
    }
   ],
   "source": [
    "d = model(adam, np.array(x_train.T), np.array(y_train), np.array(x_test.T), np.array(y_test), num_iterations = 2000, learning_rate = 0.01, print_cost = True)"
   ]
  },
  {
   "cell_type": "code",
   "execution_count": 199,
   "metadata": {},
   "outputs": [
    {
     "name": "stdout",
     "output_type": "stream",
     "text": [
      "2000\n",
      "[0.69314718 0.68520535 0.68098636 ... 0.26459135 0.26455566 0.26451999]\n"
     ]
    },
    {
     "data": {
      "text/plain": [
       "[<matplotlib.lines.Line2D at 0x199000fe748>]"
      ]
     },
     "execution_count": 199,
     "metadata": {},
     "output_type": "execute_result"
    },
    {
     "data": {
      "image/png": "[encoded data removed]",
      "text/plain": [
       "<Figure size 432x288 with 1 Axes>"
      ]
     },
     "metadata": {
      "needs_background": "light"
     },
     "output_type": "display_data"
    }
   ],
   "source": [
    "print(d[\"num_iterations\"])\n",
    "print(np.array(d['costs']).flatten())\n",
    "plt.plot(range(0, d[\"num_iterations\"]), np.array(d[\"costs\"]).flatten())"
   ]
  },
  {
   "cell_type": "markdown",
   "metadata": {},
   "source": [
    "#### 3. learning rate = 0.1"
   ]
  },
  {
   "cell_type": "code",
   "execution_count": 198,
   "metadata": {
    "scrolled": true
   },
   "outputs": [
    {
     "name": "stdout",
     "output_type": "stream",
     "text": [
      "Cost after iteration 0: 0.693147\n",
      "Cost after iteration 100: 0.499690\n",
      "Cost after iteration 200: 0.441042\n",
      "Cost after iteration 300: 0.407559\n",
      "Cost after iteration 400: 0.384348\n",
      "Cost after iteration 500: 0.366680\n",
      "Cost after iteration 600: 0.352496\n",
      "Cost after iteration 700: 0.340703\n",
      "Cost after iteration 800: 0.330644\n",
      "Cost after iteration 900: 0.321891\n",
      "Cost after iteration 1000: 0.314149\n",
      "Cost after iteration 1100: 0.307211\n",
      "Cost after iteration 1200: 0.300924\n",
      "Cost after iteration 1300: 0.295173\n",
      "Cost after iteration 1400: 0.289871\n",
      "Cost after iteration 1500: 0.284951\n",
      "Cost after iteration 1600: 0.280358\n",
      "Cost after iteration 1700: 0.276047\n",
      "Cost after iteration 1800: 0.271984\n",
      "Cost after iteration 1900: 0.268138\n",
      "train accuracy: 89.90401706363313 %\n",
      "test accuracy: 75.05330490405117 %\n"
     ]
    }
   ],
   "source": [
    "d = model(adam, np.array(x_train.T), np.array(y_train), np.array(x_test.T), np.array(y_test), num_iterations = 2000, learning_rate = 0.1, print_cost = True)"
   ]
  },
  {
   "cell_type": "code",
   "execution_count": 199,
   "metadata": {},
   "outputs": [
    {
     "name": "stdout",
     "output_type": "stream",
     "text": [
      "2000\n",
      "[0.69314718 0.68520535 0.68098636 ... 0.26459135 0.26455566 0.26451999]\n"
     ]
    },
    {
     "data": {
      "text/plain": [
       "[<matplotlib.lines.Line2D at 0x199000fe748>]"
      ]
     },
     "execution_count": 199,
     "metadata": {},
     "output_type": "execute_result"
    },
    {
     "data": {
      "image/png": "[encoded data removed]",
      "text/plain": [
       "<Figure size 432x288 with 1 Axes>"
      ]
     },
     "metadata": {
      "needs_background": "light"
     },
     "output_type": "display_data"
    }
   ],
   "source": [
    "print(d[\"num_iterations\"])\n",
    "print(np.array(d['costs']).flatten())\n",
    "plt.plot(range(0, d[\"num_iterations\"]), np.array(d[\"costs\"]).flatten())"
   ]
  },
  {
   "cell_type": "markdown",
   "metadata": {},
   "source": [
    "#### 4. learning rate = 0.2"
   ]
  },
  {
   "cell_type": "code",
   "execution_count": 198,
   "metadata": {
    "scrolled": true
   },
   "outputs": [
    {
     "name": "stdout",
     "output_type": "stream",
     "text": [
      "Cost after iteration 0: 0.693147\n",
      "Cost after iteration 100: 0.499690\n",
      "Cost after iteration 200: 0.441042\n",
      "Cost after iteration 300: 0.407559\n",
      "Cost after iteration 400: 0.384348\n",
      "Cost after iteration 500: 0.366680\n",
      "Cost after iteration 600: 0.352496\n",
      "Cost after iteration 700: 0.340703\n",
      "Cost after iteration 800: 0.330644\n",
      "Cost after iteration 900: 0.321891\n",
      "Cost after iteration 1000: 0.314149\n",
      "Cost after iteration 1100: 0.307211\n",
      "Cost after iteration 1200: 0.300924\n",
      "Cost after iteration 1300: 0.295173\n",
      "Cost after iteration 1400: 0.289871\n",
      "Cost after iteration 1500: 0.284951\n",
      "Cost after iteration 1600: 0.280358\n",
      "Cost after iteration 1700: 0.276047\n",
      "Cost after iteration 1800: 0.271984\n",
      "Cost after iteration 1900: 0.268138\n",
      "train accuracy: 89.90401706363313 %\n",
      "test accuracy: 75.05330490405117 %\n"
     ]
    }
   ],
   "source": [
    "d = model(adam, np.array(x_train.T), np.array(y_train), np.array(x_test.T), np.array(y_test), num_iterations = 2000, learning_rate = 0.2, print_cost = True)"
   ]
  },
  {
   "cell_type": "code",
   "execution_count": 199,
   "metadata": {},
   "outputs": [
    {
     "name": "stdout",
     "output_type": "stream",
     "text": [
      "2000\n",
      "[0.69314718 0.68520535 0.68098636 ... 0.26459135 0.26455566 0.26451999]\n"
     ]
    },
    {
     "data": {
      "text/plain": [
       "[<matplotlib.lines.Line2D at 0x199000fe748>]"
      ]
     },
     "execution_count": 199,
     "metadata": {},
     "output_type": "execute_result"
    },
    {
     "data": {
      "image/png": "[encoded data removed]",
      "text/plain": [
       "<Figure size 432x288 with 1 Axes>"
      ]
     },
     "metadata": {
      "needs_background": "light"
     },
     "output_type": "display_data"
    }
   ],
   "source": [
    "print(d[\"num_iterations\"])\n",
    "print(np.array(d['costs']).flatten())\n",
    "plt.plot(range(0, d[\"num_iterations\"]), np.array(d[\"costs\"]).flatten())"
   ]
  },
  {
   "cell_type": "markdown",
   "metadata": {},
   "source": [
    "#### 5. learning rate = 0.4"
   ]
  },
  {
   "cell_type": "code",
   "execution_count": 198,
   "metadata": {
    "scrolled": false
   },
   "outputs": [
    {
     "name": "stdout",
     "output_type": "stream",
     "text": [
      "Cost after iteration 0: 0.693147\n",
      "Cost after iteration 100: 0.499690\n",
      "Cost after iteration 200: 0.441042\n",
      "Cost after iteration 300: 0.407559\n",
      "Cost after iteration 400: 0.384348\n",
      "Cost after iteration 500: 0.366680\n",
      "Cost after iteration 600: 0.352496\n",
      "Cost after iteration 700: 0.340703\n",
      "Cost after iteration 800: 0.330644\n",
      "Cost after iteration 900: 0.321891\n",
      "Cost after iteration 1000: 0.314149\n",
      "Cost after iteration 1100: 0.307211\n",
      "Cost after iteration 1200: 0.300924\n",
      "Cost after iteration 1300: 0.295173\n",
      "Cost after iteration 1400: 0.289871\n",
      "Cost after iteration 1500: 0.284951\n",
      "Cost after iteration 1600: 0.280358\n",
      "Cost after iteration 1700: 0.276047\n",
      "Cost after iteration 1800: 0.271984\n",
      "Cost after iteration 1900: 0.268138\n",
      "train accuracy: 89.90401706363313 %\n",
      "test accuracy: 75.05330490405117 %\n"
     ]
    }
   ],
   "source": [
    "d = model(adam, np.array(x_train.T), np.array(y_train), np.array(x_test.T), np.array(y_test), num_iterations = 2000, learning_rate = 0.4, print_cost = True)"
   ]
  },
  {
   "cell_type": "code",
   "execution_count": 199,
   "metadata": {},
   "outputs": [
    {
     "name": "stdout",
     "output_type": "stream",
     "text": [
      "2000\n",
      "[0.69314718 0.68520535 0.68098636 ... 0.26459135 0.26455566 0.26451999]\n"
     ]
    },
    {
     "data": {
      "text/plain": [
       "[<matplotlib.lines.Line2D at 0x199000fe748>]"
      ]
     },
     "execution_count": 199,
     "metadata": {},
     "output_type": "execute_result"
    },
    {
     "data": {
      "image/png": "[encoded data removed]",
      "text/plain": [
       "<Figure size 432x288 with 1 Axes>"
      ]
     },
     "metadata": {
      "needs_background": "light"
     },
     "output_type": "display_data"
    }
   ],
   "source": [
    "print(d[\"num_iterations\"])\n",
    "print(np.array(d['costs']).flatten())\n",
    "plt.plot(range(0, d[\"num_iterations\"]), np.array(d[\"costs\"]).flatten())"
   ]
  }
 ],
 "metadata": {
  "kernelspec": {
   "display_name": "Python 3",
   "language": "python",
   "name": "python3"
  },
  "language_info": {
   "codemirror_mode": {
    "name": "ipython",
    "version": 3
   },
   "file_extension": ".py",
   "mimetype": "text/x-python",
   "name": "python",
   "nbconvert_exporter": "python",
   "pygments_lexer": "ipython3",
   "version": "3.7.6"
  }
 },
 "nbformat": 4,
 "nbformat_minor": 4
}
