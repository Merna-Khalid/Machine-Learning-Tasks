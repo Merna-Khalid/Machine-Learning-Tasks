{
 "cells": [
  {
   "cell_type": "markdown",
   "metadata": {},
   "source": [
    "# Logistic Regression as a Neural Network"
   ]
  },
  {
   "cell_type": "code",
   "execution_count": 1,
   "metadata": {},
   "outputs": [],
   "source": [
    "import numpy as np\n",
    "import pandas as pd\n",
    "import matplotlib.pyplot as plt\n",
    "from sklearn.model_selection import train_test_split, learning_curve\n",
    "import scipy\n",
    "%matplotlib inline"
   ]
  },
  {
   "cell_type": "code",
   "execution_count": 2,
   "metadata": {},
   "outputs": [],
   "source": [
    "def sigmoid(z):\n",
    "    \"\"\"\n",
    "    Compute the sigmoid of z\n",
    "\n",
    "    Arguments:\n",
    "    z -- A scalar or numpy array of any size.\n",
    "\n",
    "    Return:\n",
    "    s -- sigmoid(z)\n",
    "    \"\"\"\n",
    "    s = 1./(1.+np.exp(-z))\n",
    "    \n",
    "    return s"
   ]
  },
  {
   "cell_type": "code",
   "execution_count": 3,
   "metadata": {},
   "outputs": [],
   "source": [
    "def initialize_with_zeros(dim):\n",
    "    \"\"\"\n",
    "    This function creates a vector of zeros of shape (dim, 1) for w and initializes b to 0.\n",
    "    \n",
    "    Argument:\n",
    "    dim -- size of the w vector we want (or number of parameters in this case)\n",
    "    \n",
    "    Returns:\n",
    "    w -- initialized vector of shape (dim, 1)\n",
    "    b -- initialized scalar (corresponds to the bias)\n",
    "    \"\"\"\n",
    "    w = np.zeros((dim,1))\n",
    "    b = 0.\n",
    "    \n",
    "    return w, b"
   ]
  },
  {
   "cell_type": "code",
   "execution_count": 4,
   "metadata": {},
   "outputs": [],
   "source": [
    "def propagate(w, b, X, Y):\n",
    "    \"\"\"\n",
    "    Implement the cost function and its gradient for the propagation explained above\n",
    "\n",
    "    Arguments:\n",
    "    w -- weights, a numpy array of size which equals the number of features\n",
    "    b -- bias, a scalar\n",
    "    X -- data \n",
    "    Y -- true \"label\" vector (containing 0 and 1) of size (1, number of examples)\n",
    "\n",
    "    Return:\n",
    "    cost -- negative log-likelihood cost for logistic regression\n",
    "    dw -- gradient of the loss with respect to w, thus same shape as w\n",
    "    db -- gradient of the loss with respect to b, thus same shape as b\n",
    "    \n",
    "    \"\"\"\n",
    "    m = X.shape[1]\n",
    "    #print(m)\n",
    "    #print('number of objects = ',len(X))\n",
    "    \n",
    "    # FORWARD PROPAGATION (FROM X TO COST)\n",
    "    A = sigmoid(np.dot(w.T,X)+b )                                 # compute activation\n",
    "    cost = -(1./m)*np.sum(Y*np.log(A)+(1-Y)*np.log(1-A),axis=1)   # compute cost\n",
    "    \n",
    "    # BACKWARD PROPAGATION (TO FIND GRAD)\n",
    "    dw = (1./m)*np.dot(X,(A-Y).T)\n",
    "    db = (1./m)*np.sum(A-Y,axis=1)\n",
    "\n",
    "    grads = {\"dw\": dw,\n",
    "             \"db\": db}\n",
    "    \n",
    "    return grads, cost"
   ]
  },
  {
   "cell_type": "code",
   "execution_count": 5,
   "metadata": {},
   "outputs": [
    {
     "name": "stdout",
     "output_type": "stream",
     "text": [
      "dw = [[0.0027004 ]\n",
      " [0.02446984]]\n",
      "db = [0.00151471]\n",
      "cost = [0.00295537]\n"
     ]
    }
   ],
   "source": [
    "w, b, X, Y = np.array([[1.],[-1.]]), 4., np.array([[1.,5.,-1.],[10.,0.,-3.2]]), np.array([[0,1,1]])\n",
    "grads, cost = propagate(w, b, X, Y)\n",
    "print (\"dw = \" + str(grads[\"dw\"]))\n",
    "print (\"db = \" + str(grads[\"db\"]))\n",
    "print (\"cost = \" + str(cost))"
   ]
  },
  {
   "cell_type": "code",
   "execution_count": 6,
   "metadata": {},
   "outputs": [],
   "source": [
    "# optimize\n",
    "\n",
    "def optimize(w, b, X, Y, num_iterations, learning_rate, print_cost = False):\n",
    "    \"\"\"\n",
    "    This function optimizes w and b by running a gradient descent algorithm\n",
    "    \n",
    "    Arguments:\n",
    "    w -- weights, a numpy array \n",
    "    b -- bias, a scalar\n",
    "    X -- data \n",
    "    Y -- true \"label\" vector (containing 0 and 1), of shape (1, number of examples)\n",
    "    num_iterations -- number of iterations of the optimization loop\n",
    "    learning_rate -- learning rate of the gradient descent update rule\n",
    "    print_cost -- True to print the loss every 100 steps\n",
    "    \n",
    "    Returns:\n",
    "    params -- dictionary containing the weights w and bias b\n",
    "    grads -- dictionary containing the gradients of the weights and bias with respect to the cost function\n",
    "    costs -- list of all the costs computed during the optimization, this will be used to plot the learning curve.\n",
    "    \n",
    "    \"\"\"\n",
    "    \n",
    "    costs = []\n",
    "    \n",
    "    for i in range(num_iterations):\n",
    "                \n",
    "        # Cost and gradient calculation \n",
    "        grads, cost = propagate(w,b,X,Y)\n",
    "        \n",
    "        # Retrieve derivatives from grads\n",
    "        dw = grads[\"dw\"]\n",
    "        db = grads[\"db\"]\n",
    "        \n",
    "        # update rule\n",
    "        w -=learning_rate*dw\n",
    "        b -=learning_rate*db\n",
    "        \n",
    "        # Record the costs\n",
    "        #if i % 100 == 0:\n",
    "        costs.append(cost)\n",
    "        \n",
    "        # Print the cost every 100 training iterations\n",
    "        if print_cost and i % 100 == 0:\n",
    "            print (\"Cost after iteration %i: %f\" %(i, cost))\n",
    "    \n",
    "    params = {\"w\": w,\n",
    "              \"b\": b}\n",
    "    \n",
    "    grads = {\"dw\": dw,\n",
    "             \"db\": db}\n",
    "    \n",
    "    return params, grads, costs"
   ]
  },
  {
   "cell_type": "code",
   "execution_count": 7,
   "metadata": {},
   "outputs": [
    {
     "name": "stdout",
     "output_type": "stream",
     "text": [
      "Cost after iteration 0: 0.002955\n",
      "Cost after iteration 100: 0.002683\n",
      "Cost after iteration 200: 0.002461\n",
      "Cost after iteration 300: 0.002278\n",
      "Cost after iteration 400: 0.002124\n",
      "Cost after iteration 500: 0.001991\n",
      "Cost after iteration 600: 0.001877\n",
      "Cost after iteration 700: 0.001777\n",
      "Cost after iteration 800: 0.001689\n",
      "Cost after iteration 900: 0.001611\n",
      "w = [[ 0.99092423]\n",
      " [-1.08149946]]\n",
      "b = [3.99591156]\n",
      "dw = [[0.00128065]\n",
      " [0.01144573]]\n",
      "db = [0.00041775]\n"
     ]
    }
   ],
   "source": [
    "params, grads, costs = optimize(w, b, X, Y, num_iterations= 1000, learning_rate = 0.005, print_cost = True)\n",
    "\n",
    "print (\"w = \" + str(params[\"w\"]))\n",
    "print (\"b = \" + str(params[\"b\"]))\n",
    "print (\"dw = \" + str(grads[\"dw\"]))\n",
    "print (\"db = \" + str(grads[\"db\"]))"
   ]
  },
  {
   "cell_type": "code",
   "execution_count": 8,
   "metadata": {},
   "outputs": [],
   "source": [
    "def predict(w, b, X):\n",
    "    '''\n",
    "    Predict whether the label is 0 or 1 using learned logistic regression parameters (w, b)\n",
    "    \n",
    "    Arguments:\n",
    "    w -- weights, a numpy array \n",
    "    b -- bias, a scalar\n",
    "    X -- data \n",
    "    \n",
    "    Returns:\n",
    "    Y_prediction -- a numpy array (vector) containing all predictions (0/1) for the examples in X\n",
    "    '''\n",
    "    \n",
    "    m = X.shape[1]\n",
    "    Y_prediction = np.zeros((1,m))\n",
    "    w = w.reshape(X.shape[0], 1)\n",
    "    \n",
    "    # Compute vector \"A\" predicting the probabilities \n",
    "    A = sigmoid(np.dot(w.T,X)+b)\n",
    "    \n",
    "    for i in range(A.shape[1]):\n",
    "        \n",
    "        # Convert probabilities A[0,i] to actual predictions p[0,i]\n",
    "        if (A[0,i]<=0.5):\n",
    "            Y_prediction[0][i]=0\n",
    "        else:\n",
    "            Y_prediction[0][i]=1\n",
    "    \n",
    "    return Y_prediction"
   ]
  },
  {
   "cell_type": "code",
   "execution_count": 9,
   "metadata": {},
   "outputs": [
    {
     "name": "stdout",
     "output_type": "stream",
     "text": [
      "predictions = [[1. 1. 0.]]\n"
     ]
    }
   ],
   "source": [
    "w = np.array([[0.1124579],[0.23106775]])\n",
    "b = -0.3\n",
    "X = np.array([[1.,-1.1,-3.2],[1.2,2.,0.1]])\n",
    "print (\"predictions = \" + str(predict(w, b, X)))"
   ]
  },
  {
   "cell_type": "code",
   "execution_count": 10,
   "metadata": {},
   "outputs": [],
   "source": [
    "# model\n",
    "\n",
    "def model(optimize, X_train, Y_train, X_test, Y_test, num_iterations = 2000, learning_rate = 0.5, print_cost = False):\n",
    "    \"\"\"\n",
    "    Builds the logistic regression model by calling the function we've implemented previously\n",
    "    \n",
    "    Arguments:\n",
    "    X_train -- training set represented by a numpy array \n",
    "    Y_train -- training labels represented by a numpy array (vector) of shape (1, m_train)\n",
    "    X_test -- test set represented by a numpy array \n",
    "    Y_test -- test labels represented by a numpy array (vector) of shape (1, m_test)\n",
    "    num_iterations -- hyperparameter representing the number of iterations to optimize the parameters\n",
    "    learning_rate -- hyperparameter representing the learning rate used in the update rule of optimize()\n",
    "    print_cost -- Set to true to print the cost every 100 iterations\n",
    "    \n",
    "    Returns:\n",
    "    d -- dictionary containing information about the model.\n",
    "    \"\"\"\n",
    "    \n",
    "    # initialize parameters with zeros \n",
    "    w, b = initialize_with_zeros(X_train.shape[0])\n",
    "\n",
    "    # Gradient descent\n",
    "    parameters, grads, costs = optimize(w, b, X_train, Y_train, num_iterations, learning_rate, print_cost)\n",
    "    \n",
    "    # Retrieve parameters w and b from dictionary \"parameters\"\n",
    "    w = parameters[\"w\"]\n",
    "    b = parameters[\"b\"]\n",
    "    \n",
    "    # Predict test/train set examples\n",
    "    Y_prediction_test = predict(w, b, X_test)\n",
    "    Y_prediction_train = predict(w, b, X_train)\n",
    "\n",
    "    # Print train/test Errors\n",
    "    print(\"train accuracy: {} %\".format(100 - np.mean(np.abs(Y_prediction_train - Y_train)) * 100))\n",
    "    print(\"test accuracy: {} %\".format(100 - np.mean(np.abs(Y_prediction_test - Y_test)) * 100))\n",
    "\n",
    "    d = {\"costs\": costs,\n",
    "         \"Y_prediction_test\": Y_prediction_test, \n",
    "         \"Y_prediction_train\" : Y_prediction_train, \n",
    "         \"w\" : w, \n",
    "         \"b\" : b,\n",
    "         \"learning_rate\" : learning_rate,\n",
    "         \"num_iterations\": num_iterations}\n",
    "    \n",
    "    return d"
   ]
  },
  {
   "cell_type": "markdown",
   "metadata": {},
   "source": [
    "# Start of implementation"
   ]
  },
  {
   "cell_type": "markdown",
   "metadata": {},
   "source": [
    "### Reading data"
   ]
  },
  {
   "cell_type": "code",
   "execution_count": 11,
   "metadata": {},
   "outputs": [],
   "source": [
    "bioresponse = pd.read_csv('bioresponse.csv')\n",
    "features_cols = set(bioresponse.columns)\n",
    "features_cols.remove('Activity')\n",
    "x_train, x_test, y_train, y_test = train_test_split(bioresponse[features_cols],\n",
    "                                                    bioresponse['Activity'],\n",
    "                                                    test_size=0.25)"
   ]
  },
  {
   "cell_type": "code",
   "execution_count": 12,
   "metadata": {},
   "outputs": [],
   "source": [
    "#print(x_train)\n",
    "#print(y_train)"
   ]
  },
  {
   "cell_type": "markdown",
   "metadata": {},
   "source": [
    "### GD Testing different learning rates"
   ]
  },
  {
   "cell_type": "markdown",
   "metadata": {},
   "source": [
    "#### 1. learning rate = 0.001"
   ]
  },
  {
   "cell_type": "code",
   "execution_count": 13,
   "metadata": {
    "scrolled": true
   },
   "outputs": [
    {
     "name": "stdout",
     "output_type": "stream",
     "text": [
      "Cost after iteration 0: 0.693147\n",
      "Cost after iteration 100: 0.679099\n",
      "Cost after iteration 200: 0.671718\n",
      "Cost after iteration 300: 0.665219\n",
      "Cost after iteration 400: 0.659211\n",
      "Cost after iteration 500: 0.653616\n",
      "Cost after iteration 600: 0.648382\n",
      "Cost after iteration 700: 0.643469\n",
      "Cost after iteration 800: 0.638843\n",
      "Cost after iteration 900: 0.634475\n",
      "Cost after iteration 1000: 0.630341\n",
      "Cost after iteration 1100: 0.626420\n",
      "Cost after iteration 1200: 0.622694\n",
      "Cost after iteration 1300: 0.619145\n",
      "Cost after iteration 1400: 0.615760\n",
      "Cost after iteration 1500: 0.612525\n",
      "Cost after iteration 1600: 0.609430\n",
      "Cost after iteration 1700: 0.606464\n",
      "Cost after iteration 1800: 0.603618\n",
      "Cost after iteration 1900: 0.600883\n",
      "train accuracy: 72.05830074653394 %\n",
      "test accuracy: 71.21535181236675 %\n"
     ]
    }
   ],
   "source": [
    "d = model(optimize, np.array(x_train.T), np.array(y_train), np.array(x_test.T), np.array(y_test), num_iterations = 2000, learning_rate = 0.001, print_cost = True)"
   ]
  },
  {
   "cell_type": "code",
   "execution_count": 14,
   "metadata": {},
   "outputs": [
    {
     "name": "stdout",
     "output_type": "stream",
     "text": [
      "2000\n",
      "[0.69314718 0.69287316 0.6926048  ... 0.59832933 0.59830349 0.59827766]\n"
     ]
    },
    {
     "data": {
      "text/plain": [
       "[<matplotlib.lines.Line2D at 0x2babb2a7648>]"
      ]
     },
     "execution_count": 14,
     "metadata": {},
     "output_type": "execute_result"
    },
    {
     "data": {
      "image/png": "[encoded data removed]",
      "text/plain": [
       "<Figure size 432x288 with 1 Axes>"
      ]
     },
     "metadata": {
      "needs_background": "light"
     },
     "output_type": "display_data"
    }
   ],
   "source": [
    "print(d[\"num_iterations\"])\n",
    "print(np.array(d['costs']).flatten())\n",
    "plt.plot(range(0, d[\"num_iterations\"]), np.array(d[\"costs\"]).flatten())"
   ]
  },
  {
   "cell_type": "markdown",
   "metadata": {},
   "source": [
    "#### 2. learning rate = 0.01"
   ]
  },
  {
   "cell_type": "code",
   "execution_count": 15,
   "metadata": {
    "scrolled": true
   },
   "outputs": [
    {
     "name": "stdout",
     "output_type": "stream",
     "text": [
      "Cost after iteration 0: 0.693147\n",
      "Cost after iteration 100: 0.630292\n",
      "Cost after iteration 200: 0.598205\n",
      "Cost after iteration 300: 0.576350\n",
      "Cost after iteration 400: 0.560008\n",
      "Cost after iteration 500: 0.547078\n",
      "Cost after iteration 600: 0.536467\n",
      "Cost after iteration 700: 0.527536\n",
      "Cost after iteration 800: 0.519874\n",
      "Cost after iteration 900: 0.513202\n",
      "Cost after iteration 1000: 0.507321\n",
      "Cost after iteration 1100: 0.502082\n",
      "Cost after iteration 1200: 0.497373\n",
      "Cost after iteration 1300: 0.493107\n",
      "Cost after iteration 1400: 0.489217\n",
      "Cost after iteration 1500: 0.485648\n",
      "Cost after iteration 1600: 0.482355\n",
      "Cost after iteration 1700: 0.479302\n",
      "Cost after iteration 1800: 0.476459\n",
      "Cost after iteration 1900: 0.473802\n",
      "train accuracy: 79.48809100604336 %\n",
      "test accuracy: 74.20042643923242 %\n"
     ]
    }
   ],
   "source": [
    "d = model(optimize, np.array(x_train.T), np.array(y_train), np.array(x_test.T), np.array(y_test), num_iterations = 2000, learning_rate = 0.01, print_cost = True)"
   ]
  },
  {
   "cell_type": "code",
   "execution_count": 16,
   "metadata": {},
   "outputs": [
    {
     "name": "stdout",
     "output_type": "stream",
     "text": [
      "2000\n",
      "[0.69314718 0.69053607 0.68841939 ... 0.47138151 0.4713573  0.47133311]\n"
     ]
    },
    {
     "data": {
      "text/plain": [
       "[<matplotlib.lines.Line2D at 0x2babb390748>]"
      ]
     },
     "execution_count": 16,
     "metadata": {},
     "output_type": "execute_result"
    },
    {
     "data": {
      "image/png": "[encoded data removed]",
      "text/plain": [
       "<Figure size 432x288 with 1 Axes>"
      ]
     },
     "metadata": {
      "needs_background": "light"
     },
     "output_type": "display_data"
    }
   ],
   "source": [
    "print(d[\"num_iterations\"])\n",
    "print(np.array(d['costs']).flatten())\n",
    "plt.plot(range(0, d[\"num_iterations\"]), np.array(d[\"costs\"]).flatten())"
   ]
  },
  {
   "cell_type": "markdown",
   "metadata": {},
   "source": [
    "#### 3. learning rate = 0.1"
   ]
  },
  {
   "cell_type": "code",
   "execution_count": 17,
   "metadata": {
    "scrolled": true
   },
   "outputs": [
    {
     "name": "stdout",
     "output_type": "stream",
     "text": [
      "Cost after iteration 0: 0.693147\n",
      "Cost after iteration 100: 0.507147\n",
      "Cost after iteration 200: 0.471224\n",
      "Cost after iteration 300: 0.452421\n",
      "Cost after iteration 400: 0.439850\n",
      "Cost after iteration 500: 0.430428\n",
      "Cost after iteration 600: 0.422903\n",
      "Cost after iteration 700: 0.416648\n",
      "Cost after iteration 800: 0.411303\n",
      "Cost after iteration 900: 0.406644\n",
      "Cost after iteration 1000: 0.402518\n",
      "Cost after iteration 1100: 0.398819\n",
      "Cost after iteration 1200: 0.395470\n",
      "Cost after iteration 1300: 0.392411\n",
      "Cost after iteration 1400: 0.389598\n",
      "Cost after iteration 1500: 0.386995\n",
      "Cost after iteration 1600: 0.384572\n",
      "Cost after iteration 1700: 0.382309\n",
      "Cost after iteration 1800: 0.380184\n",
      "Cost after iteration 1900: 0.378182\n",
      "train accuracy: 84.32278706007821 %\n",
      "test accuracy: 76.11940298507463 %\n"
     ]
    }
   ],
   "source": [
    "d = model(optimize, np.array(x_train.T), np.array(y_train), np.array(x_test.T), np.array(y_test), num_iterations = 2000, learning_rate = 0.1, print_cost = True)"
   ]
  },
  {
   "cell_type": "code",
   "execution_count": 18,
   "metadata": {},
   "outputs": [
    {
     "name": "stdout",
     "output_type": "stream",
     "text": [
      "2000\n",
      "[0.69314718 0.67984813 0.67162376 ... 0.37634619 0.37632776 0.37630934]\n"
     ]
    },
    {
     "data": {
      "text/plain": [
       "[<matplotlib.lines.Line2D at 0x2babb81c848>]"
      ]
     },
     "execution_count": 18,
     "metadata": {},
     "output_type": "execute_result"
    },
    {
     "data": {
      "image/png": "[encoded data removed]",
      "text/plain": [
       "<Figure size 432x288 with 1 Axes>"
      ]
     },
     "metadata": {
      "needs_background": "light"
     },
     "output_type": "display_data"
    }
   ],
   "source": [
    "print(d[\"num_iterations\"])\n",
    "print(np.array(d['costs']).flatten())\n",
    "plt.plot(range(0, d[\"num_iterations\"]), np.array(d[\"costs\"]).flatten())"
   ]
  },
  {
   "cell_type": "markdown",
   "metadata": {},
   "source": [
    "#### 4. learning rate = 0.2"
   ]
  },
  {
   "cell_type": "code",
   "execution_count": 19,
   "metadata": {
    "scrolled": true
   },
   "outputs": [
    {
     "name": "stdout",
     "output_type": "stream",
     "text": [
      "Cost after iteration 0: 0.693147\n",
      "Cost after iteration 100: 0.478574\n",
      "Cost after iteration 200: 0.438824\n",
      "Cost after iteration 300: 0.422409\n",
      "Cost after iteration 400: 0.411001\n",
      "Cost after iteration 500: 0.402309\n",
      "Cost after iteration 600: 0.395315\n",
      "Cost after iteration 700: 0.389477\n",
      "Cost after iteration 800: 0.384474\n",
      "Cost after iteration 900: 0.380102\n",
      "Cost after iteration 1000: 0.376221\n",
      "Cost after iteration 1100: 0.372734\n",
      "Cost after iteration 1200: 0.369569\n",
      "Cost after iteration 1300: 0.366672\n",
      "Cost after iteration 1400: 0.364002\n",
      "Cost after iteration 1500: 0.361525\n",
      "Cost after iteration 1600: 0.359217\n",
      "Cost after iteration 1700: 0.357055\n",
      "Cost after iteration 1800: 0.355022\n",
      "Cost after iteration 1900: 0.353103\n",
      "train accuracy: 85.10487024528973 %\n",
      "test accuracy: 76.75906183368869 %\n"
     ]
    }
   ],
   "source": [
    "d = model(optimize, np.array(x_train.T), np.array(y_train), np.array(x_test.T), np.array(y_test), num_iterations = 2000, learning_rate = 0.2, print_cost = True)"
   ]
  },
  {
   "cell_type": "code",
   "execution_count": 20,
   "metadata": {},
   "outputs": [
    {
     "name": "stdout",
     "output_type": "stream",
     "text": [
      "2000\n",
      "[0.69314718 0.6939292  0.72667434 ... 0.35134035 0.35132265 0.35130495]\n"
     ]
    },
    {
     "data": {
      "text/plain": [
       "[<matplotlib.lines.Line2D at 0x2babb757048>]"
      ]
     },
     "execution_count": 20,
     "metadata": {},
     "output_type": "execute_result"
    },
    {
     "data": {
      "image/png": "[encoded data removed]",
      "text/plain": [
       "<Figure size 432x288 with 1 Axes>"
      ]
     },
     "metadata": {
      "needs_background": "light"
     },
     "output_type": "display_data"
    }
   ],
   "source": [
    "print(d[\"num_iterations\"])\n",
    "print(np.array(d['costs']).flatten())\n",
    "plt.plot(range(0, d[\"num_iterations\"]), np.array(d[\"costs\"]).flatten())"
   ]
  },
  {
   "cell_type": "markdown",
   "metadata": {},
   "source": [
    "#### 5. learning rate = 0.4"
   ]
  },
  {
   "cell_type": "code",
   "execution_count": 21,
   "metadata": {
    "scrolled": true
   },
   "outputs": [
    {
     "name": "stdout",
     "output_type": "stream",
     "text": [
      "Cost after iteration 0: 0.693147\n",
      "Cost after iteration 100: 0.871717\n",
      "Cost after iteration 200: 0.714537\n",
      "Cost after iteration 300: 0.649669\n",
      "Cost after iteration 400: 0.608630\n",
      "Cost after iteration 500: 0.578918\n",
      "Cost after iteration 600: 0.555813\n",
      "Cost after iteration 700: 0.537030\n",
      "Cost after iteration 800: 0.521270\n",
      "Cost after iteration 900: 0.507759\n",
      "Cost after iteration 1000: 0.496000\n",
      "Cost after iteration 1100: 0.485644\n",
      "Cost after iteration 1200: 0.476425\n",
      "Cost after iteration 1300: 0.468137\n",
      "Cost after iteration 1400: 0.460616\n",
      "Cost after iteration 1500: 0.453736\n",
      "Cost after iteration 1600: 0.447397\n",
      "Cost after iteration 1700: 0.441518\n",
      "Cost after iteration 1800: 0.436038\n",
      "Cost after iteration 1900: 0.430907\n",
      "train accuracy: 81.86988979736935 %\n",
      "test accuracy: 71.74840085287846 %\n"
     ]
    }
   ],
   "source": [
    "d = model(optimize, np.array(x_train.T), np.array(y_train), np.array(x_test.T), np.array(y_test), num_iterations = 2000, learning_rate = 0.4, print_cost = True)"
   ]
  },
  {
   "cell_type": "code",
   "execution_count": 22,
   "metadata": {},
   "outputs": [
    {
     "name": "stdout",
     "output_type": "stream",
     "text": [
      "2000\n",
      "[0.69314718 0.7913997  2.06890471 ... 0.44191845 0.42617581 0.44181041]\n"
     ]
    },
    {
     "data": {
      "text/plain": [
       "[<matplotlib.lines.Line2D at 0x2babbb90f08>]"
      ]
     },
     "execution_count": 22,
     "metadata": {},
     "output_type": "execute_result"
    },
    {
     "data": {
      "image/png": "[encoded data removed]",
      "text/plain": [
       "<Figure size 432x288 with 1 Axes>"
      ]
     },
     "metadata": {
      "needs_background": "light"
     },
     "output_type": "display_data"
    }
   ],
   "source": [
    "print(d[\"num_iterations\"])\n",
    "print(np.array(d['costs']).flatten())\n",
    "plt.plot(range(0, d[\"num_iterations\"]), np.array(d[\"costs\"]).flatten())"
   ]
  },
  {
   "cell_type": "markdown",
   "metadata": {},
   "source": [
    "### Stochastic gd"
   ]
  },
  {
   "cell_type": "code",
   "execution_count": 23,
   "metadata": {},
   "outputs": [],
   "source": [
    "batch_size = 128\n",
    "def sgd_multi(w, b, X, Y, num_iterations, learning_rate, print_cost = False):\n",
    "    \"\"\"\n",
    "    This function optimizes w and b by running a gradient descent algorithm\n",
    "    \n",
    "    Arguments:\n",
    "    w -- weights, a numpy array \n",
    "    b -- bias, a scalar\n",
    "    X -- data \n",
    "    Y -- true \"label\" vector (containing 0 and 1), of shape (1, number of examples)\n",
    "    num_iterations -- number of iterations of the optimization loop\n",
    "    learning_rate -- learning rate of the gradient descent update rule\n",
    "    print_cost -- True to print the loss every 100 steps\n",
    "    \n",
    "    Returns:\n",
    "    params -- dictionary containing the weights w and bias b\n",
    "    grads -- dictionary containing the gradients of the weights and bias with respect to the cost function\n",
    "    costs -- list of all the costs computed during the optimization, this will be used to plot the learning curve.\n",
    "    \n",
    "    \"\"\"\n",
    "    \n",
    "    costs = []\n",
    "    indices = np.arange(X.T.shape[0])\n",
    "    np.random.shuffle(indices)\n",
    "    idx_start = 0\n",
    "    idx_end = 0\n",
    "    for i in range(num_iterations):\n",
    "        \n",
    "        # Cost and gradient calculation \n",
    "        excess = 0\n",
    "        if idx_start + batch_size > X.T.shape[0]:\n",
    "            excess = (idx_start + batch_size) % X.T.shape[0]\n",
    "            idx_end = X.T.shape[0]\n",
    "            it_ = np.concatenate((indices[idx_start:], indices[: excess]), axis=0)\n",
    "        else:\n",
    "            idx_end = batch_size + idx_start \n",
    "            it_ = indices[idx_start: idx_end]\n",
    "        grads, cost = propagate(w,\n",
    "                                b,\n",
    "                                (X.T[it_].T),\n",
    "                                Y[it_])\n",
    "        idx_start = ((idx_start + batch_size) % X.T.shape[0]) + excess\n",
    "\n",
    "        # Retrieve derivatives from grads\n",
    "        dw = grads[\"dw\"]\n",
    "        db = grads[\"db\"]\n",
    "        \n",
    "        # update rule\n",
    "        w -=learning_rate*dw\n",
    "        b -=learning_rate*db\n",
    "        \n",
    "        # Record the costs\n",
    "        if i % 100 == 0:\n",
    "            costs.append(cost)\n",
    "        \n",
    "        # Print the cost every 100 training iterations\n",
    "        if print_cost and i % 100 == 0:\n",
    "            print (\"Cost after iteration %i: %f\" %(i, cost))\n",
    "    \n",
    "    params = {\"w\": w,\n",
    "              \"b\": b}\n",
    "    \n",
    "    grads = {\"dw\": dw,\n",
    "             \"db\": db}\n",
    "    \n",
    "    return params, grads, costs\n",
    "        "
   ]
  },
  {
   "cell_type": "markdown",
   "metadata": {},
   "source": [
    "### SGD Testing different learning rates, batch size = 128"
   ]
  },
  {
   "cell_type": "markdown",
   "metadata": {},
   "source": [
    "#### 1. learning rate = 0.001"
   ]
  },
  {
   "cell_type": "code",
   "execution_count": 24,
   "metadata": {
    "scrolled": true
   },
   "outputs": [
    {
     "name": "stdout",
     "output_type": "stream",
     "text": [
      "Cost after iteration 0: 0.693147\n",
      "Cost after iteration 100: 0.667644\n",
      "Cost after iteration 200: 0.666386\n",
      "Cost after iteration 300: 0.666739\n",
      "Cost after iteration 400: 0.657316\n",
      "Cost after iteration 500: 0.646680\n",
      "Cost after iteration 600: 0.646027\n",
      "Cost after iteration 700: 0.667996\n",
      "Cost after iteration 800: 0.649962\n",
      "Cost after iteration 900: 0.618818\n",
      "Cost after iteration 1000: 0.619857\n",
      "Cost after iteration 1100: 0.642668\n",
      "Cost after iteration 1200: 0.642446\n",
      "Cost after iteration 1300: 0.611496\n",
      "Cost after iteration 1400: 0.598978\n",
      "Cost after iteration 1500: 0.616408\n",
      "Cost after iteration 1600: 0.606575\n",
      "Cost after iteration 1700: 0.605668\n",
      "Cost after iteration 1800: 0.600928\n",
      "Cost after iteration 1900: 0.594079\n",
      "train accuracy: 72.27159616068255 %\n",
      "test accuracy: 70.8955223880597 %\n"
     ]
    }
   ],
   "source": [
    "d = model(sgd_multi, np.array(x_train.T), np.array(y_train), np.array(x_test.T), np.array(y_test), num_iterations = 2000, learning_rate = 0.001, print_cost = True)"
   ]
  },
  {
   "cell_type": "code",
   "execution_count": 25,
   "metadata": {},
   "outputs": [
    {
     "name": "stdout",
     "output_type": "stream",
     "text": [
      "2000\n",
      "[0.69314718 0.66764415 0.66638582 0.66673926 0.65731625 0.64667992\n",
      " 0.64602685 0.66799617 0.64996212 0.618818   0.61985676 0.64266829\n",
      " 0.64244612 0.61149636 0.59897776 0.61640833 0.60657495 0.60566848\n",
      " 0.60092848 0.59407864]\n"
     ]
    },
    {
     "data": {
      "text/plain": [
       "[<matplotlib.lines.Line2D at 0x2babbc1da88>]"
      ]
     },
     "execution_count": 25,
     "metadata": {},
     "output_type": "execute_result"
    },
    {
     "data": {
      "image/png": "[encoded data removed]",
      "text/plain": [
       "<Figure size 432x288 with 1 Axes>"
      ]
     },
     "metadata": {
      "needs_background": "light"
     },
     "output_type": "display_data"
    }
   ],
   "source": [
    "print(d[\"num_iterations\"])\n",
    "print(np.array(d['costs']).flatten())\n",
    "plt.plot(range(0, d[\"num_iterations\"], 100), np.array(d[\"costs\"]).flatten())"
   ]
  },
  {
   "cell_type": "markdown",
   "metadata": {},
   "source": [
    "#### 2. learning rate = 0.01"
   ]
  },
  {
   "cell_type": "code",
   "execution_count": 26,
   "metadata": {},
   "outputs": [
    {
     "name": "stdout",
     "output_type": "stream",
     "text": [
      "Cost after iteration 0: 0.693147\n",
      "Cost after iteration 100: 0.641283\n",
      "Cost after iteration 200: 0.586941\n",
      "Cost after iteration 300: 0.590866\n",
      "Cost after iteration 400: 0.575512\n",
      "Cost after iteration 500: 0.557401\n",
      "Cost after iteration 600: 0.501214\n",
      "Cost after iteration 700: 0.589753\n",
      "Cost after iteration 800: 0.505940\n",
      "Cost after iteration 900: 0.556594\n",
      "Cost after iteration 1000: 0.432644\n",
      "Cost after iteration 1100: 0.481351\n",
      "Cost after iteration 1200: 0.491366\n",
      "Cost after iteration 1300: 0.484599\n",
      "Cost after iteration 1400: 0.476425\n",
      "Cost after iteration 1500: 0.512833\n",
      "Cost after iteration 1600: 0.488300\n",
      "Cost after iteration 1700: 0.500039\n",
      "Cost after iteration 1800: 0.446479\n",
      "Cost after iteration 1900: 0.484355\n",
      "train accuracy: 79.34589406327764 %\n",
      "test accuracy: 74.20042643923242 %\n"
     ]
    }
   ],
   "source": [
    "d = model(sgd_multi, np.array(x_train.T), np.array(y_train), np.array(x_test.T), np.array(y_test), num_iterations = 2000, learning_rate = 0.01, print_cost = True)"
   ]
  },
  {
   "cell_type": "code",
   "execution_count": 27,
   "metadata": {},
   "outputs": [
    {
     "name": "stdout",
     "output_type": "stream",
     "text": [
      "2000\n",
      "[0.69314718 0.64128263 0.58694062 0.59086595 0.57551218 0.55740086\n",
      " 0.50121355 0.58975304 0.5059402  0.55659385 0.43264387 0.48135127\n",
      " 0.4913659  0.48459864 0.47642516 0.51283263 0.48830027 0.50003915\n",
      " 0.44647897 0.48435512]\n"
     ]
    },
    {
     "data": {
      "text/plain": [
       "[<matplotlib.lines.Line2D at 0x2babbcd2c08>]"
      ]
     },
     "execution_count": 27,
     "metadata": {},
     "output_type": "execute_result"
    },
    {
     "data": {
      "image/png": "[encoded data removed]",
      "text/plain": [
       "<Figure size 432x288 with 1 Axes>"
      ]
     },
     "metadata": {
      "needs_background": "light"
     },
     "output_type": "display_data"
    }
   ],
   "source": [
    "print(d[\"num_iterations\"])\n",
    "print(np.array(d['costs']).flatten())\n",
    "plt.plot(range(0, d[\"num_iterations\"], 100), np.array(d[\"costs\"]).flatten())"
   ]
  },
  {
   "cell_type": "markdown",
   "metadata": {},
   "source": [
    "#### 3. learning rate = 0.1"
   ]
  },
  {
   "cell_type": "code",
   "execution_count": 28,
   "metadata": {},
   "outputs": [
    {
     "name": "stdout",
     "output_type": "stream",
     "text": [
      "Cost after iteration 0: 0.693147\n",
      "Cost after iteration 100: 0.501929\n",
      "Cost after iteration 200: 0.495808\n",
      "Cost after iteration 300: 0.463741\n",
      "Cost after iteration 400: 0.429553\n",
      "Cost after iteration 500: 0.381356\n",
      "Cost after iteration 600: 0.444185\n",
      "Cost after iteration 700: 0.430013\n",
      "Cost after iteration 800: 0.365246\n",
      "Cost after iteration 900: 0.462779\n",
      "Cost after iteration 1000: 0.405030\n",
      "Cost after iteration 1100: 0.454355\n",
      "Cost after iteration 1200: 0.347224\n",
      "Cost after iteration 1300: 0.461595\n",
      "Cost after iteration 1400: 0.342328\n",
      "Cost after iteration 1500: 0.417856\n",
      "Cost after iteration 1600: 0.470960\n",
      "Cost after iteration 1700: 0.344925\n",
      "Cost after iteration 1800: 0.339555\n",
      "Cost after iteration 1900: 0.421759\n",
      "train accuracy: 83.18521151795237 %\n",
      "test accuracy: 76.65245202558636 %\n"
     ]
    }
   ],
   "source": [
    "d = model(sgd_multi, np.array(x_train.T), np.array(y_train), np.array(x_test.T), np.array(y_test), num_iterations = 2000, learning_rate = 0.1, print_cost = True)"
   ]
  },
  {
   "cell_type": "code",
   "execution_count": 29,
   "metadata": {},
   "outputs": [
    {
     "name": "stdout",
     "output_type": "stream",
     "text": [
      "2000\n",
      "[0.69314718 0.50192886 0.49580801 0.46374065 0.4295528  0.38135611\n",
      " 0.44418513 0.43001321 0.36524581 0.46277897 0.40502986 0.45435524\n",
      " 0.34722382 0.46159548 0.34232769 0.41785618 0.47095952 0.34492518\n",
      " 0.33955492 0.42175905]\n"
     ]
    },
    {
     "data": {
      "text/plain": [
       "[<matplotlib.lines.Line2D at 0x2babbd43388>]"
      ]
     },
     "execution_count": 29,
     "metadata": {},
     "output_type": "execute_result"
    },
    {
     "data": {
      "image/png": "[encoded data removed]",
      "text/plain": [
       "<Figure size 432x288 with 1 Axes>"
      ]
     },
     "metadata": {
      "needs_background": "light"
     },
     "output_type": "display_data"
    }
   ],
   "source": [
    "print(d[\"num_iterations\"])\n",
    "print(np.array(d['costs']).flatten())\n",
    "plt.plot(range(0, d[\"num_iterations\"], 100), np.array(d[\"costs\"]).flatten())"
   ]
  },
  {
   "cell_type": "markdown",
   "metadata": {},
   "source": [
    "#### 4. learning rate = 0.2"
   ]
  },
  {
   "cell_type": "code",
   "execution_count": 30,
   "metadata": {},
   "outputs": [
    {
     "name": "stdout",
     "output_type": "stream",
     "text": [
      "Cost after iteration 0: 0.693147\n",
      "Cost after iteration 100: 0.714419\n",
      "Cost after iteration 200: 0.544250\n",
      "Cost after iteration 300: 0.412087\n",
      "Cost after iteration 400: 0.365725\n",
      "Cost after iteration 500: 0.478061\n",
      "Cost after iteration 600: 0.374154\n",
      "Cost after iteration 700: 0.436521\n",
      "Cost after iteration 800: 0.365854\n",
      "Cost after iteration 900: 0.401362\n",
      "Cost after iteration 1000: 0.371189\n",
      "Cost after iteration 1100: 0.313056\n",
      "Cost after iteration 1200: 0.300356\n",
      "Cost after iteration 1300: 0.329579\n",
      "Cost after iteration 1400: 0.430494\n",
      "Cost after iteration 1500: 0.379708\n",
      "Cost after iteration 1600: 0.439810\n",
      "Cost after iteration 1700: 0.349125\n",
      "Cost after iteration 1800: 0.337785\n",
      "Cost after iteration 1900: 0.292597\n",
      "train accuracy: 84.89157483114113 %\n",
      "test accuracy: 76.11940298507463 %\n"
     ]
    }
   ],
   "source": [
    "d = model(sgd_multi, np.array(x_train.T), np.array(y_train), np.array(x_test.T), np.array(y_test), num_iterations = 2000, learning_rate = 0.2, print_cost = True)"
   ]
  },
  {
   "cell_type": "code",
   "execution_count": 31,
   "metadata": {},
   "outputs": [
    {
     "name": "stdout",
     "output_type": "stream",
     "text": [
      "2000\n",
      "[0.69314718 0.71441902 0.54424998 0.41208746 0.36572543 0.47806081\n",
      " 0.37415429 0.43652077 0.36585377 0.40136198 0.37118856 0.31305637\n",
      " 0.30035601 0.32957871 0.43049408 0.37970841 0.43980952 0.34912468\n",
      " 0.3377845  0.29259716]\n"
     ]
    },
    {
     "data": {
      "text/plain": [
       "[<matplotlib.lines.Line2D at 0x2babbda7d48>]"
      ]
     },
     "execution_count": 31,
     "metadata": {},
     "output_type": "execute_result"
    },
    {
     "data": {
      "image/png": "[encoded data removed]",
      "text/plain": [
       "<Figure size 432x288 with 1 Axes>"
      ]
     },
     "metadata": {
      "needs_background": "light"
     },
     "output_type": "display_data"
    }
   ],
   "source": [
    "print(d[\"num_iterations\"])\n",
    "print(np.array(d['costs']).flatten())\n",
    "plt.plot(np.array(d[\"costs\"]).flatten(), range(0, d[\"num_iterations\"], 100))"
   ]
  },
  {
   "cell_type": "markdown",
   "metadata": {},
   "source": [
    "#### 5. learning rate = 0.4"
   ]
  },
  {
   "cell_type": "code",
   "execution_count": 32,
   "metadata": {},
   "outputs": [
    {
     "name": "stdout",
     "output_type": "stream",
     "text": [
      "Cost after iteration 0: 0.693147\n",
      "Cost after iteration 100: 0.818127\n",
      "Cost after iteration 200: 0.487221\n",
      "Cost after iteration 300: 0.829217\n",
      "Cost after iteration 400: 0.376638\n",
      "Cost after iteration 500: 0.703186\n",
      "Cost after iteration 600: 0.458607\n",
      "Cost after iteration 700: 0.966011\n",
      "Cost after iteration 800: 0.437242\n",
      "Cost after iteration 900: 0.456153\n",
      "Cost after iteration 1000: 0.447452\n",
      "Cost after iteration 1100: 0.428073\n",
      "Cost after iteration 1200: 0.447811\n",
      "Cost after iteration 1300: 0.643575\n",
      "Cost after iteration 1400: 0.547915\n",
      "Cost after iteration 1500: 0.543112\n",
      "Cost after iteration 1600: 0.450946\n",
      "Cost after iteration 1700: 0.353042\n",
      "Cost after iteration 1800: 0.390229\n",
      "Cost after iteration 1900: 0.439670\n",
      "train accuracy: 85.24706718805545 %\n",
      "test accuracy: 76.22601279317698 %\n"
     ]
    }
   ],
   "source": [
    "d = model(sgd_multi, np.array(x_train.T), np.array(y_train), np.array(x_test.T), np.array(y_test), num_iterations = 2000, learning_rate = 0.4, print_cost = True)"
   ]
  },
  {
   "cell_type": "code",
   "execution_count": 33,
   "metadata": {
    "scrolled": false
   },
   "outputs": [
    {
     "name": "stdout",
     "output_type": "stream",
     "text": [
      "2000\n",
      "[0.69314718 0.81812747 0.48722149 0.8292171  0.3766377  0.70318606\n",
      " 0.45860716 0.96601117 0.43724217 0.45615271 0.44745152 0.42807282\n",
      " 0.44781148 0.64357534 0.54791477 0.54311178 0.45094589 0.3530422\n",
      " 0.39022902 0.43966953]\n"
     ]
    },
    {
     "data": {
      "text/plain": [
       "[<matplotlib.lines.Line2D at 0x2babbdf4048>]"
      ]
     },
     "execution_count": 33,
     "metadata": {},
     "output_type": "execute_result"
    },
    {
     "data": {
      "image/png": "[encoded data removed]",
      "text/plain": [
       "<Figure size 432x288 with 1 Axes>"
      ]
     },
     "metadata": {
      "needs_background": "light"
     },
     "output_type": "display_data"
    }
   ],
   "source": [
    "print(d[\"num_iterations\"])\n",
    "print(np.array(d['costs']).flatten())\n",
    "plt.plot(np.array(d[\"costs\"]).flatten(), range(0, d[\"num_iterations\"], 100))"
   ]
  },
  {
   "cell_type": "markdown",
   "metadata": {},
   "source": [
    "## Conclusion\n",
    "learning rate is vital for converging as a very high rate will make the gd jump around the minima but never reach it, and very small learning rate will make it very slow to reach the minima or it may never reach it. So we need to find the sweet spot, in our case learning rate 0.2 resulted in less loss after fixed number of iteration."
   ]
  },
  {
   "cell_type": "markdown",
   "metadata": {},
   "source": [
    "### SGD Testing different batch sizes, learning rate = 0.001"
   ]
  },
  {
   "cell_type": "markdown",
   "metadata": {},
   "source": [
    "#### 1. , batch size = 64"
   ]
  },
  {
   "cell_type": "code",
   "execution_count": 34,
   "metadata": {
    "scrolled": true
   },
   "outputs": [
    {
     "name": "stdout",
     "output_type": "stream",
     "text": [
      "Cost after iteration 0: 0.693147\n",
      "Cost after iteration 100: 0.655846\n",
      "Cost after iteration 200: 0.667070\n",
      "Cost after iteration 300: 0.687114\n",
      "Cost after iteration 400: 0.629780\n",
      "Cost after iteration 500: 0.633430\n",
      "Cost after iteration 600: 0.663506\n",
      "Cost after iteration 700: 0.650292\n",
      "Cost after iteration 800: 0.624890\n",
      "Cost after iteration 900: 0.650235\n",
      "Cost after iteration 1000: 0.649593\n",
      "Cost after iteration 1100: 0.630226\n",
      "Cost after iteration 1200: 0.623044\n",
      "Cost after iteration 1300: 0.606494\n",
      "Cost after iteration 1400: 0.609337\n",
      "Cost after iteration 1500: 0.627783\n",
      "Cost after iteration 1600: 0.576795\n",
      "Cost after iteration 1700: 0.598357\n",
      "Cost after iteration 1800: 0.586952\n",
      "Cost after iteration 1900: 0.609684\n",
      "train accuracy: 71.88055456807679 %\n",
      "test accuracy: 70.57569296375267 %\n"
     ]
    }
   ],
   "source": [
    "batch_size = 64\n",
    "d = model(sgd_multi, np.array(x_train.T), np.array(y_train), np.array(x_test.T), np.array(y_test), num_iterations = 2000, learning_rate = 0.001, print_cost = True)"
   ]
  },
  {
   "cell_type": "code",
   "execution_count": 35,
   "metadata": {
    "scrolled": false
   },
   "outputs": [
    {
     "name": "stdout",
     "output_type": "stream",
     "text": [
      "2000\n",
      "[0.69314718 0.65584623 0.66706998 0.68711389 0.62977967 0.63343046\n",
      " 0.66350562 0.65029178 0.62489019 0.65023524 0.64959251 0.63022575\n",
      " 0.623044   0.60649401 0.60933747 0.62778262 0.5767947  0.59835677\n",
      " 0.58695197 0.60968386]\n"
     ]
    },
    {
     "data": {
      "text/plain": [
       "[<matplotlib.lines.Line2D at 0x2babbe58cc8>]"
      ]
     },
     "execution_count": 35,
     "metadata": {},
     "output_type": "execute_result"
    },
    {
     "data": {
      "image/png": "[encoded data removed]",
      "text/plain": [
       "<Figure size 432x288 with 1 Axes>"
      ]
     },
     "metadata": {
      "needs_background": "light"
     },
     "output_type": "display_data"
    }
   ],
   "source": [
    "print(d[\"num_iterations\"])\n",
    "print(np.array(d['costs']).flatten())\n",
    "plt.plot(range(0, d[\"num_iterations\"], 100), np.array(d[\"costs\"]).flatten())"
   ]
  },
  {
   "cell_type": "markdown",
   "metadata": {},
   "source": [
    "#### 2. , batch size = 32"
   ]
  },
  {
   "cell_type": "code",
   "execution_count": 36,
   "metadata": {
    "scrolled": true
   },
   "outputs": [
    {
     "name": "stdout",
     "output_type": "stream",
     "text": [
      "Cost after iteration 0: 0.693147\n",
      "Cost after iteration 100: 0.690219\n",
      "Cost after iteration 200: 0.678237\n",
      "Cost after iteration 300: 0.682946\n",
      "Cost after iteration 400: 0.630226\n",
      "Cost after iteration 500: 0.633761\n",
      "Cost after iteration 600: 0.636227\n",
      "Cost after iteration 700: 0.629409\n",
      "Cost after iteration 800: 0.651460\n",
      "Cost after iteration 900: 0.672395\n",
      "Cost after iteration 1000: 0.668440\n",
      "Cost after iteration 1100: 0.602828\n",
      "Cost after iteration 1200: 0.609888\n",
      "Cost after iteration 1300: 0.642807\n",
      "Cost after iteration 1400: 0.568274\n",
      "Cost after iteration 1500: 0.596800\n",
      "Cost after iteration 1600: 0.639567\n",
      "Cost after iteration 1700: 0.550903\n",
      "Cost after iteration 1800: 0.602984\n",
      "Cost after iteration 1900: 0.589840\n",
      "train accuracy: 71.80945609669392 %\n",
      "test accuracy: 70.8955223880597 %\n"
     ]
    }
   ],
   "source": [
    "batch_size = 32\n",
    "d = model(sgd_multi, np.array(x_train.T), np.array(y_train), np.array(x_test.T), np.array(y_test), num_iterations = 2000, learning_rate = 0.001, print_cost = True)"
   ]
  },
  {
   "cell_type": "code",
   "execution_count": 37,
   "metadata": {
    "scrolled": true
   },
   "outputs": [
    {
     "name": "stdout",
     "output_type": "stream",
     "text": [
      "2000\n",
      "[0.69314718 0.69021908 0.67823684 0.68294551 0.63022567 0.63376085\n",
      " 0.63622709 0.62940923 0.6514601  0.6723947  0.66844018 0.60282792\n",
      " 0.60988808 0.64280714 0.56827413 0.5967998  0.63956733 0.55090347\n",
      " 0.60298364 0.58983994]\n"
     ]
    },
    {
     "data": {
      "text/plain": [
       "[<matplotlib.lines.Line2D at 0x2babbebde48>]"
      ]
     },
     "execution_count": 37,
     "metadata": {},
     "output_type": "execute_result"
    },
    {
     "data": {
      "image/png": "[encoded data removed]",
      "text/plain": [
       "<Figure size 432x288 with 1 Axes>"
      ]
     },
     "metadata": {
      "needs_background": "light"
     },
     "output_type": "display_data"
    }
   ],
   "source": [
    "print(d[\"num_iterations\"])\n",
    "print(np.array(d['costs']).flatten())\n",
    "plt.plot(range(0, d[\"num_iterations\"], 100), np.array(d[\"costs\"]).flatten())"
   ]
  },
  {
   "cell_type": "markdown",
   "metadata": {},
   "source": [
    "#### 3.  batch size = 16"
   ]
  },
  {
   "cell_type": "code",
   "execution_count": 38,
   "metadata": {
    "scrolled": true
   },
   "outputs": [
    {
     "name": "stdout",
     "output_type": "stream",
     "text": [
      "Cost after iteration 0: 0.693147\n",
      "Cost after iteration 100: 0.692471\n",
      "Cost after iteration 200: 0.672918\n",
      "Cost after iteration 300: 0.688698\n",
      "Cost after iteration 400: 0.679635\n",
      "Cost after iteration 500: 0.699712\n",
      "Cost after iteration 600: 0.697156\n",
      "Cost after iteration 700: 0.658095\n",
      "Cost after iteration 800: 0.607564\n",
      "Cost after iteration 900: 0.636301\n",
      "Cost after iteration 1000: 0.620118\n",
      "Cost after iteration 1100: 0.633251\n",
      "Cost after iteration 1200: 0.699918\n",
      "Cost after iteration 1300: 0.708202\n",
      "Cost after iteration 1400: 0.629116\n",
      "Cost after iteration 1500: 0.581764\n",
      "Cost after iteration 1600: 0.622393\n",
      "Cost after iteration 1700: 0.585100\n",
      "Cost after iteration 1800: 0.606101\n",
      "Cost after iteration 1900: 0.686654\n",
      "train accuracy: 71.240668325631 %\n",
      "test accuracy: 70.25586353944563 %\n"
     ]
    }
   ],
   "source": [
    "batch_size = 16\n",
    "d = model(sgd_multi, np.array(x_train.T), np.array(y_train), np.array(x_test.T), np.array(y_test), num_iterations = 2000, learning_rate = 0.001, print_cost = True)"
   ]
  },
  {
   "cell_type": "code",
   "execution_count": 39,
   "metadata": {},
   "outputs": [
    {
     "name": "stdout",
     "output_type": "stream",
     "text": [
      "2000\n",
      "[0.69314718 0.69247124 0.6729181  0.68869761 0.67963524 0.69971189\n",
      " 0.69715574 0.65809514 0.60756384 0.63630054 0.62011816 0.63325095\n",
      " 0.6999181  0.70820163 0.62911558 0.58176378 0.62239276 0.58509956\n",
      " 0.60610098 0.68665394]\n"
     ]
    },
    {
     "data": {
      "text/plain": [
       "[<matplotlib.lines.Line2D at 0x2babbf2e0c8>]"
      ]
     },
     "execution_count": 39,
     "metadata": {},
     "output_type": "execute_result"
    },
    {
     "data": {
      "image/png": "[encoded data removed]",
      "text/plain": [
       "<Figure size 432x288 with 1 Axes>"
      ]
     },
     "metadata": {
      "needs_background": "light"
     },
     "output_type": "display_data"
    }
   ],
   "source": [
    "print(d[\"num_iterations\"])\n",
    "print(np.array(d['costs']).flatten())\n",
    "plt.plot(range(0, d[\"num_iterations\"], 100), np.array(d[\"costs\"]).flatten())"
   ]
  },
  {
   "cell_type": "markdown",
   "metadata": {},
   "source": [
    "## Adam"
   ]
  },
  {
   "cell_type": "code",
   "execution_count": 40,
   "metadata": {},
   "outputs": [],
   "source": [
    "def adam(w, b, X, Y, num_iterations, learning_rate, print_cost = False):\n",
    "    \"\"\"\n",
    "    This function optimizes w and b by running a gradient descent algorithm\n",
    "    \n",
    "    Arguments:\n",
    "    w -- weights, a numpy array \n",
    "    b -- bias, a scalar\n",
    "    X -- data \n",
    "    Y -- true \"label\" vector (containing 0 and 1), of shape (1, number of examples)\n",
    "    num_iterations -- number of iterations of the optimization loop\n",
    "    learning_rate -- learning rate of the gradient descent update rule\n",
    "    print_cost -- True to print the loss every 100 steps\n",
    "    \n",
    "    Returns:\n",
    "    params -- dictionary containing the weights w and bias b\n",
    "    grads -- dictionary containing the gradients of the weights and bias with respect to the cost function\n",
    "    costs -- list of all the costs computed during the optimization, this will be used to plot the learning curve.\n",
    "    \n",
    "    \"\"\"\n",
    "    \n",
    "    costs = []\n",
    "\n",
    "    m = np.zeros(len(w))\n",
    "    v = np.zeros(len(w))\n",
    "    m_b = 0.0\n",
    "    v_b = 0.0\n",
    "    \n",
    "    for i in range(num_iterations):\n",
    "        \n",
    "        # Cost and gradient calculation \n",
    "        grads, cost = propagate(w,b,X,Y)\n",
    "        \n",
    "        e = 1e-8\n",
    "        b1 = 0.9\n",
    "        b2 = 0.999\n",
    "        # Retrieve derivatives from grads\n",
    "        dw = grads[\"dw\"].flatten()\n",
    "        db = grads[\"db\"].flatten()\n",
    "        m = b1 * m + (1 - b1) * dw\n",
    "        m_b = b1 * m_b + (1 - b1) * db[0]\n",
    "\n",
    "        v = b2 * v + (1 - b2) * (dw ** 2)\n",
    "        v_b = b2 * v_b + (1 - b2) * (db[0] ** 2)\n",
    "        \n",
    "        m_c = m / ( 1 - b1 ** (i + 1))\n",
    "        m_b_c = m_b / ( 1 - b1 ** (i + 1))\n",
    "        \n",
    "        v_c = v / (1 - b2 ** (i + 1))\n",
    "        v_b_c = v_b / (1 - b2 ** (i + 1))\n",
    "        \n",
    "        # update rule\n",
    "        w[:,0] = w[:,0] - (learning_rate * m_c) / (np.sqrt(v_c) + e)\n",
    "        b = b - (learning_rate * m_b_c) / (np.sqrt(v_b_c) + e)\n",
    "\n",
    "        # Record the costs\n",
    "        #if i % 100 == 0:\n",
    "        costs.append(cost)\n",
    "        \n",
    "        # Print the cost every 100 training iterations\n",
    "        if print_cost and i % 100 == 0:\n",
    "            print (\"Cost after iteration %i: %f\" %(i, cost))\n",
    "    \n",
    "    params = {\"w\": w,\n",
    "              \"b\": b}\n",
    "    \n",
    "    grads = {\"dw\": dw,\n",
    "             \"db\": db}\n",
    "    \n",
    "    return params, grads, costs"
   ]
  },
  {
   "cell_type": "markdown",
   "metadata": {},
   "source": [
    "### Adam Testing different learning rates"
   ]
  },
  {
   "cell_type": "markdown",
   "metadata": {},
   "source": [
    "#### 1. learning rate = 0.001"
   ]
  },
  {
   "cell_type": "code",
   "execution_count": 41,
   "metadata": {
    "scrolled": true
   },
   "outputs": [
    {
     "name": "stdout",
     "output_type": "stream",
     "text": [
      "Cost after iteration 0: 0.693147\n",
      "Cost after iteration 100: 0.500779\n",
      "Cost after iteration 200: 0.442429\n",
      "Cost after iteration 300: 0.408938\n",
      "Cost after iteration 400: 0.385871\n",
      "Cost after iteration 500: 0.368484\n",
      "Cost after iteration 600: 0.354622\n",
      "Cost after iteration 700: 0.343125\n",
      "Cost after iteration 800: 0.333305\n",
      "Cost after iteration 900: 0.324728\n",
      "Cost after iteration 1000: 0.317105\n",
      "Cost after iteration 1100: 0.310235\n",
      "Cost after iteration 1200: 0.303975\n",
      "Cost after iteration 1300: 0.298219\n",
      "Cost after iteration 1400: 0.292887\n",
      "Cost after iteration 1500: 0.287916\n",
      "Cost after iteration 1600: 0.283256\n",
      "Cost after iteration 1700: 0.278867\n",
      "Cost after iteration 1800: 0.274717\n",
      "Cost after iteration 1900: 0.270778\n",
      "train accuracy: 89.4418769996445 %\n",
      "test accuracy: 75.3731343283582 %\n"
     ]
    }
   ],
   "source": [
    "d = model(adam, np.array(x_train.T), np.array(y_train), np.array(x_test.T), np.array(y_test), num_iterations = 2000, learning_rate = 0.001, print_cost = True)"
   ]
  },
  {
   "cell_type": "code",
   "execution_count": 42,
   "metadata": {},
   "outputs": [
    {
     "name": "stdout",
     "output_type": "stream",
     "text": [
      "2000\n",
      "[0.69314718 0.68440361 0.67998053 ... 0.26713829 0.26710163 0.26706498]\n"
     ]
    },
    {
     "data": {
      "text/plain": [
       "[<matplotlib.lines.Line2D at 0x2babbfd10c8>]"
      ]
     },
     "execution_count": 42,
     "metadata": {},
     "output_type": "execute_result"
    },
    {
     "data": {
      "image/png": "[encoded data removed]",
      "text/plain": [
       "<Figure size 432x288 with 1 Axes>"
      ]
     },
     "metadata": {
      "needs_background": "light"
     },
     "output_type": "display_data"
    }
   ],
   "source": [
    "print(d[\"num_iterations\"])\n",
    "print(np.array(d['costs']).flatten())\n",
    "plt.plot(range(0, d[\"num_iterations\"]), np.array(d[\"costs\"]).flatten())"
   ]
  },
  {
   "cell_type": "markdown",
   "metadata": {},
   "source": [
    "#### 2. learning rate = 0.01"
   ]
  },
  {
   "cell_type": "code",
   "execution_count": 43,
   "metadata": {
    "scrolled": false
   },
   "outputs": [
    {
     "name": "stdout",
     "output_type": "stream",
     "text": [
      "Cost after iteration 0: 0.693147\n",
      "Cost after iteration 100: 0.380321\n",
      "Cost after iteration 200: 0.332279\n",
      "Cost after iteration 300: 0.304828\n",
      "Cost after iteration 400: 0.285408\n",
      "Cost after iteration 500: 0.270352\n",
      "Cost after iteration 600: 0.258035\n",
      "Cost after iteration 700: 0.247600\n",
      "Cost after iteration 800: 0.238544\n",
      "Cost after iteration 900: 0.230546\n",
      "Cost after iteration 1000: 0.223383\n",
      "Cost after iteration 1100: 0.216894\n",
      "Cost after iteration 1200: 0.210958\n"
     ]
    },
    {
     "name": "stderr",
     "output_type": "stream",
     "text": [
      "C:\\Anaconda3\\lib\\site-packages\\ipykernel_launcher.py:23: RuntimeWarning: divide by zero encountered in log\n",
      "C:\\Anaconda3\\lib\\site-packages\\ipykernel_launcher.py:23: RuntimeWarning: invalid value encountered in multiply\n"
     ]
    },
    {
     "name": "stdout",
     "output_type": "stream",
     "text": [
      "Cost after iteration 1300: nan\n",
      "Cost after iteration 1400: nan\n",
      "Cost after iteration 1500: nan\n",
      "Cost after iteration 1600: nan\n",
      "Cost after iteration 1700: nan\n",
      "Cost after iteration 1800: nan\n",
      "Cost after iteration 1900: nan\n",
      "train accuracy: 93.56558833985069 %\n",
      "test accuracy: 73.56076759061834 %\n"
     ]
    }
   ],
   "source": [
    "d = model(adam, np.array(x_train.T), np.array(y_train), np.array(x_test.T), np.array(y_test), num_iterations = 2000, learning_rate = 0.01, print_cost = True)"
   ]
  },
  {
   "cell_type": "code",
   "execution_count": 44,
   "metadata": {},
   "outputs": [
    {
     "name": "stdout",
     "output_type": "stream",
     "text": [
      "2000\n",
      "[0.69314718 0.82483102 0.66491826 ...        nan        nan        nan]\n"
     ]
    },
    {
     "data": {
      "text/plain": [
       "[<matplotlib.lines.Line2D at 0x2babbf9d848>]"
      ]
     },
     "execution_count": 44,
     "metadata": {},
     "output_type": "execute_result"
    },
    {
     "data": {
      "image/png": "[encoded data removed]",
      "text/plain": [
       "<Figure size 432x288 with 1 Axes>"
      ]
     },
     "metadata": {
      "needs_background": "light"
     },
     "output_type": "display_data"
    }
   ],
   "source": [
    "print(d[\"num_iterations\"])\n",
    "print(np.array(d['costs']).flatten())\n",
    "plt.plot(range(0, d[\"num_iterations\"]), np.array(d[\"costs\"]).flatten())"
   ]
  },
  {
   "cell_type": "markdown",
   "metadata": {},
   "source": [
    "#### 3. learning rate = 0.1"
   ]
  },
  {
   "cell_type": "code",
   "execution_count": 45,
   "metadata": {
    "scrolled": true
   },
   "outputs": [
    {
     "name": "stdout",
     "output_type": "stream",
     "text": [
      "Cost after iteration 0: 0.693147\n"
     ]
    },
    {
     "name": "stderr",
     "output_type": "stream",
     "text": [
      "C:\\Anaconda3\\lib\\site-packages\\ipykernel_launcher.py:23: RuntimeWarning: divide by zero encountered in log\n",
      "C:\\Anaconda3\\lib\\site-packages\\ipykernel_launcher.py:23: RuntimeWarning: invalid value encountered in multiply\n"
     ]
    },
    {
     "name": "stdout",
     "output_type": "stream",
     "text": [
      "Cost after iteration 100: 0.307922\n",
      "Cost after iteration 200: 0.264399\n",
      "Cost after iteration 300: 0.238134\n",
      "Cost after iteration 400: nan\n",
      "Cost after iteration 500: nan\n",
      "Cost after iteration 600: nan\n",
      "Cost after iteration 700: nan\n",
      "Cost after iteration 800: nan\n",
      "Cost after iteration 900: nan\n",
      "Cost after iteration 1000: nan\n",
      "Cost after iteration 1100: nan\n",
      "Cost after iteration 1200: nan\n",
      "Cost after iteration 1300: nan\n",
      "Cost after iteration 1400: nan\n",
      "Cost after iteration 1500: nan\n",
      "Cost after iteration 1600: nan\n",
      "Cost after iteration 1700: nan\n",
      "Cost after iteration 1800: nan\n",
      "Cost after iteration 1900: nan\n",
      "train accuracy: 96.05403483825097 %\n",
      "test accuracy: 72.17484008528784 %\n"
     ]
    }
   ],
   "source": [
    "d = model(adam, np.array(x_train.T), np.array(y_train), np.array(x_test.T), np.array(y_test), num_iterations = 2000, learning_rate = 0.1, print_cost = True)"
   ]
  },
  {
   "cell_type": "code",
   "execution_count": 46,
   "metadata": {},
   "outputs": [
    {
     "name": "stdout",
     "output_type": "stream",
     "text": [
      "2000\n",
      "[0.69314718        nan 1.43260833 ...        nan        nan        nan]\n"
     ]
    },
    {
     "data": {
      "text/plain": [
       "[<matplotlib.lines.Line2D at 0x2babc0be0c8>]"
      ]
     },
     "execution_count": 46,
     "metadata": {},
     "output_type": "execute_result"
    },
    {
     "data": {
      "image/png": "[encoded data removed]",
      "text/plain": [
       "<Figure size 432x288 with 1 Axes>"
      ]
     },
     "metadata": {
      "needs_background": "light"
     },
     "output_type": "display_data"
    }
   ],
   "source": [
    "print(d[\"num_iterations\"])\n",
    "print(np.array(d['costs']).flatten())\n",
    "plt.plot(range(0, d[\"num_iterations\"]), np.array(d[\"costs\"]).flatten())"
   ]
  },
  {
   "cell_type": "markdown",
   "metadata": {},
   "source": [
    "#### 4. learning rate = 0.2"
   ]
  },
  {
   "cell_type": "code",
   "execution_count": 47,
   "metadata": {
    "scrolled": true
   },
   "outputs": [
    {
     "name": "stdout",
     "output_type": "stream",
     "text": [
      "Cost after iteration 0: 0.693147\n"
     ]
    },
    {
     "name": "stderr",
     "output_type": "stream",
     "text": [
      "C:\\Anaconda3\\lib\\site-packages\\ipykernel_launcher.py:23: RuntimeWarning: divide by zero encountered in log\n",
      "C:\\Anaconda3\\lib\\site-packages\\ipykernel_launcher.py:23: RuntimeWarning: invalid value encountered in multiply\n"
     ]
    },
    {
     "name": "stdout",
     "output_type": "stream",
     "text": [
      "Cost after iteration 100: nan\n",
      "Cost after iteration 200: nan\n",
      "Cost after iteration 300: nan\n",
      "Cost after iteration 400: nan\n",
      "Cost after iteration 500: nan\n",
      "Cost after iteration 600: nan\n",
      "Cost after iteration 700: nan\n",
      "Cost after iteration 800: nan\n",
      "Cost after iteration 900: nan\n",
      "Cost after iteration 1000: nan\n",
      "Cost after iteration 1100: nan\n",
      "Cost after iteration 1200: nan\n",
      "Cost after iteration 1300: nan\n",
      "Cost after iteration 1400: nan\n",
      "Cost after iteration 1500: nan\n",
      "Cost after iteration 1600: nan\n",
      "Cost after iteration 1700: nan\n",
      "Cost after iteration 1800: nan\n",
      "Cost after iteration 1900: nan\n",
      "train accuracy: 97.01386420191966 %\n",
      "test accuracy: 71.64179104477611 %\n"
     ]
    }
   ],
   "source": [
    "d = model(adam, np.array(x_train.T), np.array(y_train), np.array(x_test.T), np.array(y_test), num_iterations = 2000, learning_rate = 0.2, print_cost = True)"
   ]
  },
  {
   "cell_type": "code",
   "execution_count": 48,
   "metadata": {},
   "outputs": [
    {
     "name": "stdout",
     "output_type": "stream",
     "text": [
      "2000\n",
      "[0.69314718        nan        nan ...        nan        nan        nan]\n"
     ]
    },
    {
     "data": {
      "text/plain": [
       "[<matplotlib.lines.Line2D at 0x2babc09d488>]"
      ]
     },
     "execution_count": 48,
     "metadata": {},
     "output_type": "execute_result"
    },
    {
     "data": {
      "image/png": "[encoded data removed]",
      "text/plain": [
       "<Figure size 432x288 with 1 Axes>"
      ]
     },
     "metadata": {
      "needs_background": "light"
     },
     "output_type": "display_data"
    }
   ],
   "source": [
    "print(d[\"num_iterations\"])\n",
    "print(np.array(d['costs']).flatten())\n",
    "plt.plot(range(0, d[\"num_iterations\"]), np.array(d[\"costs\"]).flatten())"
   ]
  },
  {
   "cell_type": "markdown",
   "metadata": {},
   "source": [
    "#### 5. learning rate = 0.4"
   ]
  },
  {
   "cell_type": "code",
   "execution_count": 49,
   "metadata": {
    "scrolled": false
   },
   "outputs": [
    {
     "name": "stdout",
     "output_type": "stream",
     "text": [
      "Cost after iteration 0: 0.693147\n"
     ]
    },
    {
     "name": "stderr",
     "output_type": "stream",
     "text": [
      "C:\\Anaconda3\\lib\\site-packages\\ipykernel_launcher.py:23: RuntimeWarning: divide by zero encountered in log\n",
      "C:\\Anaconda3\\lib\\site-packages\\ipykernel_launcher.py:23: RuntimeWarning: invalid value encountered in multiply\n"
     ]
    },
    {
     "name": "stdout",
     "output_type": "stream",
     "text": [
      "Cost after iteration 100: nan\n",
      "Cost after iteration 200: nan\n",
      "Cost after iteration 300: nan\n",
      "Cost after iteration 400: nan\n",
      "Cost after iteration 500: nan\n",
      "Cost after iteration 600: nan\n",
      "Cost after iteration 700: nan\n",
      "Cost after iteration 800: nan\n",
      "Cost after iteration 900: nan\n",
      "Cost after iteration 1000: nan\n",
      "Cost after iteration 1100: nan\n",
      "Cost after iteration 1200: nan\n",
      "Cost after iteration 1300: nan\n",
      "Cost after iteration 1400: nan\n",
      "Cost after iteration 1500: nan\n",
      "Cost after iteration 1600: nan\n",
      "Cost after iteration 1700: nan\n",
      "Cost after iteration 1800: nan\n",
      "Cost after iteration 1900: nan\n",
      "train accuracy: 97.40490579452542 %\n",
      "test accuracy: 71.53518123667376 %\n"
     ]
    }
   ],
   "source": [
    "d = model(adam, np.array(x_train.T), np.array(y_train), np.array(x_test.T), np.array(y_test), num_iterations = 2000, learning_rate = 0.4, print_cost = True)"
   ]
  },
  {
   "cell_type": "code",
   "execution_count": 50,
   "metadata": {},
   "outputs": [
    {
     "name": "stdout",
     "output_type": "stream",
     "text": [
      "2000\n",
      "[0.69314718        nan        nan ...        nan        nan        nan]\n"
     ]
    },
    {
     "data": {
      "text/plain": [
       "[<matplotlib.lines.Line2D at 0x2babc0ff1c8>]"
      ]
     },
     "execution_count": 50,
     "metadata": {},
     "output_type": "execute_result"
    },
    {
     "data": {
      "image/png": "[encoded data removed]",
      "text/plain": [
       "<Figure size 432x288 with 1 Axes>"
      ]
     },
     "metadata": {
      "needs_background": "light"
     },
     "output_type": "display_data"
    }
   ],
   "source": [
    "print(d[\"num_iterations\"])\n",
    "print(np.array(d['costs']).flatten())\n",
    "plt.plot(range(0, d[\"num_iterations\"]), np.array(d[\"costs\"]).flatten())"
   ]
  },
  {
   "cell_type": "markdown",
   "metadata": {},
   "source": [
    "## Conclusion\n",
    "for adam it is always better to start with a small learning rate like 0.001 as it will yield good accuracy and decay later, higher learning rates are chaotic with adam but very small lr will decay very fast.\n",
    "in a lot of cases adam is better than sgd as it is more adaptable especially when we are uncertain with our parameters. but stochastic gd sometimes can be more stable although better result is not guaranteed."
   ]
  },
  {
   "cell_type": "code",
   "execution_count": null,
   "metadata": {},
   "outputs": [],
   "source": []
  }
 ],
 "metadata": {
  "kernelspec": {
   "display_name": "Python 3",
   "language": "python",
   "name": "python3"
  },
  "language_info": {
   "codemirror_mode": {
    "name": "ipython",
    "version": 3
   },
   "file_extension": ".py",
   "mimetype": "text/x-python",
   "name": "python",
   "nbconvert_exporter": "python",
   "pygments_lexer": "ipython3",
   "version": "3.7.6"
  }
 },
 "nbformat": 4,
 "nbformat_minor": 4
}
